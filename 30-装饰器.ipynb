{
 "cells": [
  {
   "cell_type": "markdown",
   "metadata": {
    "collapsed": true
   },
   "source": [
    "### 为什么需要装饰器？\n",
    "> 在不改动函数的前提下，额外增加函数的功能。这样可以提高程序的可重用性与可读性。\n"
   ]
  },
  {
   "cell_type": "code",
   "execution_count": 16,
   "metadata": {},
   "outputs": [
    {
     "name": "stdout",
     "output_type": "stream",
     "text": [
      "hello function enter.\n",
      "Hello\n",
      "hello function run end.\n"
     ]
    }
   ],
   "source": [
    "#coding:utf-8  \n",
    "#无参的装饰器，在函数开始之前和结束后增加log\n",
    "def log(func):\n",
    "    def warpper():\n",
    "        print(\"%s function enter.\" %func.__name__)\n",
    "        func()\n",
    "        print(\"%s function run end.\" %func.__name__)\n",
    "    return warpper\n",
    "@log\n",
    "def hello():\n",
    "    print(\"Hello\")\n",
    "\n",
    "hello()"
   ]
  },
  {
   "cell_type": "markdown",
   "metadata": {},
   "source": [
    " > @log作用相当于 hello = log(hello)，上面的函数是无参的，那如果函数有参数的呢。\n",
    " \n",
    " > case1：多个参数且参数不固定\n",
    " \n",
    " > case2：关键字参数\n",
    " \n",
    " > case3：case1和case2的组合,这个时候就需要用到*args **kargs\n",
    " "
   ]
  },
  {
   "cell_type": "code",
   "execution_count": 17,
   "metadata": {},
   "outputs": [
    {
     "name": "stdout",
     "output_type": "stream",
     "text": [
      "Function add  enter \n"
     ]
    },
    {
     "data": {
      "text/plain": [
       "<function __main__.add>"
      ]
     },
     "execution_count": 17,
     "metadata": {},
     "output_type": "execute_result"
    }
   ],
   "source": [
    "#coing:utf-8\n",
    "def log(func):\n",
    "    def warpper(*args,**kargs):\n",
    "        print(\"Function %s  enter \" %func.__name__)\n",
    "        return func\n",
    "    return warpper\n",
    "\n",
    "@log\n",
    "def add(a,b):\n",
    "    return a + b\n",
    "\n",
    "add(1,2)\n"
   ]
  },
  {
   "cell_type": "markdown",
   "metadata": {},
   "source": [
    "> 如果log中需要参数怎么办？这就需要在定义装饰器的时候指定参数了。"
   ]
  },
  {
   "cell_type": "code",
   "execution_count": 49,
   "metadata": {},
   "outputs": [
    {
     "name": "stdout",
     "output_type": "stream",
     "text": [
      "Info function enter.\n",
      "add\n",
      "wrapper\n"
     ]
    }
   ],
   "source": [
    "def log(level):\n",
    "    def decorator(func):\n",
    "        def wrapper(*args,**kargs):\n",
    "            if level == \"Info\":\n",
    "                print (\"%s function enter.\" %level)\n",
    "            print (func.__name__)\n",
    "            return func(*args,**kargs)\n",
    "        return wrapper\n",
    "    return decorator\n",
    "\n",
    "@log(\"Info\")    \n",
    "def add(a,b):\n",
    "    return a+b\n",
    "\n",
    "\n",
    "add(1,2)\n",
    "\n",
    "print (add.__name__)\n",
    "        "
   ]
  },
  {
   "cell_type": "markdown",
   "metadata": {},
   "source": [
    "> aad.__name__此时由add变成了wrapper,需要在wrapper函数定义之前加上@functools.wraps(func)"
   ]
  },
  {
   "cell_type": "code",
   "execution_count": 50,
   "metadata": {},
   "outputs": [
    {
     "name": "stdout",
     "output_type": "stream",
     "text": [
      "Info function enter.\n",
      "add\n",
      "add\n"
     ]
    }
   ],
   "source": [
    "import functools\n",
    "def log(level):\n",
    "    def decorator(func):\n",
    "        @functools.wraps(func)\n",
    "        def wrapper(*args,**kargs):\n",
    "            if level == \"Info\":\n",
    "                print (\"%s function enter.\" %level)\n",
    "            print (func.__name__)\n",
    "            return func(*args,**kargs)\n",
    "        return wrapper\n",
    "    return decorator\n",
    "\n",
    "@log(\"Info\")    \n",
    "def add(a,b):\n",
    "    return a+b\n",
    "\n",
    "\n",
    "add(1,2)\n",
    "\n",
    "print (add.__name__)"
   ]
  },
  {
   "cell_type": "markdown",
   "metadata": {},
   "source": [
    "> 类装饰器"
   ]
  },
  {
   "cell_type": "code",
   "execution_count": 42,
   "metadata": {},
   "outputs": [
    {
     "name": "stdout",
     "output_type": "stream",
     "text": [
      "class runing\n",
      "bar\n",
      "class end\n"
     ]
    }
   ],
   "source": [
    "class log(object):\n",
    "    def __init__(self,func):\n",
    "        self._func = func\n",
    "    def __call__(self):\n",
    "        print (\"class runing\")\n",
    "        self._func()\n",
    "        print (\"class end\")\n",
    "@log\n",
    "def bar():\n",
    "    print(\"bar\")\n",
    "bar()"
   ]
  },
  {
   "cell_type": "markdown",
   "metadata": {},
   "source": [
    "> 装饰器的调用顺序\n",
    "\n",
    "> 从里到外，先调用最里层的装饰器，最后调用最外层的装饰器\n"
   ]
  },
  {
   "cell_type": "markdown",
   "metadata": {},
   "source": [
    "> "
   ]
  },
  {
   "cell_type": "code",
   "execution_count": 60,
   "metadata": {},
   "outputs": [
    {
     "name": "stdout",
     "output_type": "stream",
     "text": [
      "---log3---\n",
      "---log2---\n",
      "---log1---\n",
      "log1\n",
      "log2\n",
      "log3\n",
      "Hello!\n"
     ]
    }
   ],
   "source": [
    "def log1(func):\n",
    "    print(\"---log1---\")\n",
    "    def wrapper():\n",
    "        print(\"log1\")\n",
    "        return func()\n",
    "    return wrapper\n",
    "def log2(func):\n",
    "    print(\"---log2---\")\n",
    "    def wrapper1():\n",
    "        print(\"log2\")\n",
    "        return func()\n",
    "    return wrapper1\n",
    "\n",
    "def log3(func):\n",
    "    print(\"---log3---\")\n",
    "    def wrapper2():\n",
    "        print(\"log3\")\n",
    "        return func()\n",
    "    return wrapper2\n",
    "\n",
    "@log1\n",
    "@log2\n",
    "@log3\n",
    "def hello():\n",
    "    print(\"Hello!\")\n",
    "    \n",
    "hello()"
   ]
  },
  {
   "cell_type": "code",
   "execution_count": null,
   "metadata": {},
   "outputs": [],
   "source": []
  },
  {
   "cell_type": "code",
   "execution_count": null,
   "metadata": {},
   "outputs": [],
   "source": []
  },
  {
   "cell_type": "code",
   "execution_count": null,
   "metadata": {},
   "outputs": [],
   "source": []
  }
 ],
 "metadata": {
  "celltoolbar": "Raw Cell Format",
  "kernelspec": {
   "display_name": "Python 3",
   "language": "python",
   "name": "python3"
  },
  "language_info": {
   "codemirror_mode": {
    "name": "ipython",
    "version": 3
   },
   "file_extension": ".py",
   "mimetype": "text/x-python",
   "name": "python",
   "nbconvert_exporter": "python",
   "pygments_lexer": "ipython3",
   "version": "3.5.2"
  }
 },
 "nbformat": 4,
 "nbformat_minor": 1
}
