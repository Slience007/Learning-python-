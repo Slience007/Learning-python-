{
 "cells": [
  {
   "cell_type": "markdown",
   "metadata": {
    "collapsed": true
   },
   "source": [
    "### 为什么需要装饰器？\n",
    "> 在不改动函数的前提下，额外增加函数的功能。这样可以提高程序的可重用性与可读性。\n"
   ]
  },
  {
   "cell_type": "code",
   "execution_count": 13,
   "metadata": {},
   "outputs": [
    {
     "name": "stdout",
     "output_type": "stream",
     "text": [
      "hello function enter.\n",
      "Hello\n",
      "hello function run end.\n"
     ]
    }
   ],
   "source": [
    "#coding:utf-8  \n",
    "#无参的装饰器，在函数开始之前和结束后增加log\n",
    "def log(func):\n",
    "    def warpper():\n",
    "        print(\"%s function enter.\" %func.__name__)\n",
    "        func()\n",
    "        print(\"%s function run end.\" %func.__name__)\n",
    "    return warpper\n",
    "@log\n",
    "def hello():\n",
    "    print(\"Hello\")\n",
    "\n",
    "hello()"
   ]
  },
  {
   "cell_type": "markdown",
   "metadata": {},
   "source": [
    " @作用相当于 hello = log(hello)"
   ]
  },
  {
   "cell_type": "markdown",
   "metadata": {},
   "source": []
  }
 ],
 "metadata": {
  "kernelspec": {
   "display_name": "Python 3",
   "language": "python",
   "name": "python3"
  },
  "language_info": {
   "codemirror_mode": {
    "name": "ipython",
    "version": 3
   },
   "file_extension": ".py",
   "mimetype": "text/x-python",
   "name": "python",
   "nbconvert_exporter": "python",
   "pygments_lexer": "ipython3",
   "version": "3.5.2"
  }
 },
 "nbformat": 4,
 "nbformat_minor": 1
}
