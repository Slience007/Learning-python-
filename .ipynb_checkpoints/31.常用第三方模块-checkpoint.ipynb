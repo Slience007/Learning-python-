{
 "cells": [
  {
   "cell_type": "markdown",
   "metadata": {},
   "source": [
    "# 1. chardet\n",
    "> 用途：对于未知编码的bytes 转换成str 要先猜测其编码\n",
    "\n",
    "> 安装： pip install chardet\n",
    "如果报错：permission denied ，加上sudo 后重试\n"
   ]
  },
  {
   "cell_type": "code",
   "execution_count": 4,
   "metadata": {},
   "outputs": [
    {
     "data": {
      "text/plain": [
       "{'encoding': 'ascii', 'confidence': 1.0, 'language': ''}"
      ]
     },
     "execution_count": 4,
     "metadata": {},
     "output_type": "execute_result"
    }
   ],
   "source": [
    "import chardet\n",
    "chardet.detect(b'Hello world')"
   ]
  },
  {
   "cell_type": "markdown",
   "metadata": {},
   "source": [
    "> confidence表示检测的概率 1.0即100%"
   ]
  },
  {
   "cell_type": "code",
   "execution_count": 9,
   "metadata": {},
   "outputs": [
    {
     "data": {
      "text/plain": [
       "{'encoding': 'GB2312', 'confidence': 0.99, 'language': 'Chinese'}"
      ]
     },
     "execution_count": 9,
     "metadata": {},
     "output_type": "execute_result"
    }
   ],
   "source": [
    "data='黄金时代，王小波'.encode('gbk')\n",
    "chardet.detect(data)"
   ]
  },
  {
   "cell_type": "markdown",
   "metadata": {},
   "source": [
    "# 2.requests"
   ]
  },
  {
   "cell_type": "markdown",
   "metadata": {},
   "source": [
    "> 用途：处理URL资源\n",
    "\n",
    "> 安装：pip install requests\n",
    "\n",
    "## 2.1 get\n"
   ]
  },
  {
   "cell_type": "code",
   "execution_count": 14,
   "metadata": {},
   "outputs": [
    {
     "name": "stdout",
     "output_type": "stream",
     "text": [
      "200\n"
     ]
    }
   ],
   "source": [
    "import requests\n",
    "r1 =requests.get('https://www.douban.com')\n",
    "print(r1.status_code)\n",
    "#print(r1.text)"
   ]
  },
  {
   "cell_type": "markdown",
   "metadata": {},
   "source": [
    "如果get请求带有参数，传入一个dict作为params的参数"
   ]
  },
  {
   "cell_type": "code",
   "execution_count": 19,
   "metadata": {},
   "outputs": [
    {
     "name": "stdout",
     "output_type": "stream",
     "text": [
      "200\n"
     ]
    }
   ],
   "source": [
    "url= 'https://www.douban.com/search'\n",
    "data={\"q\":\"java\"}\n",
    "r2 = requests.get(url,params=data)\n",
    "print(r2.status_code)\n",
    "#print(r2.text)"
   ]
  },
  {
   "cell_type": "markdown",
   "metadata": {},
   "source": [
    "如果响应是Json的话，可以直接获取:r.json()   \n",
    "需要传入http header时，传入一个dict给headers"
   ]
  },
  {
   "cell_type": "markdown",
   "metadata": {},
   "source": [
    "# 2.2 post\n"
   ]
  },
  {
   "cell_type": "code",
   "execution_count": null,
   "metadata": {},
   "outputs": [],
   "source": [
    "r3=requests.post(url,headers={} ,data= {})"
   ]
  },
  {
   "cell_type": "markdown",
   "metadata": {},
   "source": [
    "# 2.3上传文件\n"
   ]
  },
  {
   "cell_type": "code",
   "execution_count": null,
   "metadata": {},
   "outputs": [],
   "source": [
    "upload_files = {'file':open(\"a.xml\",'rb')}\n",
    "request.post(url,upload_files)"
   ]
  },
  {
   "cell_type": "markdown",
   "metadata": {},
   "source": [
    "# 3.Pillow  \n",
    "> 用于图像处理   \n",
    "> 安装：pip install pillow"
   ]
  },
  {
   "cell_type": "code",
   "execution_count": 6,
   "metadata": {},
   "outputs": [
    {
     "name": "stdout",
     "output_type": "stream",
     "text": [
      "700 1244\n"
     ]
    }
   ],
   "source": [
    "#图像缩放\n",
    "from PIL import Image\n",
    "im_path=\"/home/stephen/stephen/LearningPython/Learning-python-/images/hx.jpeg\"\n",
    "hx=Image.open(im_path)\n",
    "w,h=hx.size\n",
    "print(w,h)\n",
    "hx.thumbnail((w//2, h//2))\n",
    "#save image\n",
    "hx.save(\"hx_resize.jpeg\",\"jpeg\")\n",
    "\n",
    "\n",
    "\n"
   ]
  },
  {
   "cell_type": "code",
   "execution_count": 9,
   "metadata": {},
   "outputs": [],
   "source": [
    "#模糊\n",
    "from PIL import Image,ImageFilter\n",
    "im_path1=\"/home/stephen/stephen/LearningPython/Learning-python-/images/hx.jpeg\"\n",
    "im1=Image.open(im_path1)\n",
    "im2=im1.filter(ImageFilter.BLUR)\n",
    "im2.save(\"hx_filter.jpeg\",\"jpeg\")"
   ]
  },
  {
   "cell_type": "code",
   "execution_count": null,
   "metadata": {},
   "outputs": [],
   "source": [
    "#生成图片验证码"
   ]
  },
  {
   "cell_type": "markdown",
   "metadata": {},
   "source": [
    "# 4.psutil\n",
    "> 作用：获取系统信息   \n",
    "> 安装：pip install  psutil   "
   ]
  },
  {
   "cell_type": "code",
   "execution_count": 14,
   "metadata": {},
   "outputs": [
    {
     "name": "stdout",
     "output_type": "stream",
     "text": [
      "4\n",
      "2\n"
     ]
    }
   ],
   "source": [
    "#获取CPU信息\n",
    "import psutil\n",
    "#CPU逻辑数量\n",
    "print(psutil.cpu_count())\n",
    "#CPU物理核心\n",
    "print(psutil.cpu_count(logical=False))"
   ]
  },
  {
   "cell_type": "code",
   "execution_count": 17,
   "metadata": {},
   "outputs": [
    {
     "name": "stdout",
     "output_type": "stream",
     "text": [
      "[24.0, 26.9, 24.8, 24.8]\n",
      "[15.8, 18.2, 18.8, 18.8]\n"
     ]
    }
   ],
   "source": [
    "#CPU使用率\n",
    "for i in range(2):\n",
    "    a = psutil.cpu_percent(interval=1, percpu=True)\n",
    "    print(a)"
   ]
  },
  {
   "cell_type": "code",
   "execution_count": 19,
   "metadata": {},
   "outputs": [
    {
     "name": "stdout",
     "output_type": "stream",
     "text": [
      "svmem(total=4017033216, available=276512768, percent=93.1, used=3163566080, free=127946752, active=2790940672, inactive=752906240, buffers=32542720, cached=692977664, shared=333373440, slab=171995136)\n",
      "sswap(total=4172279808, used=2253737984, free=1918541824, percent=54.0, sin=804696064, sout=2923565056)\n"
     ]
    }
   ],
   "source": [
    "#获取内存信息\n",
    "#物理内存\n",
    "mem_v=psutil.virtual_memory()\n",
    "#交换内存\n",
    "mem_swap=psutil.swap_memory()\n",
    "print(mem_v)\n",
    "print(mem_swap)"
   ]
  },
  {
   "cell_type": "code",
   "execution_count": null,
   "metadata": {},
   "outputs": [],
   "source": [
    "#查看分区\n",
    "psutil.disk_partitions()\n",
    "#磁盘使用情况\n",
    "psutil.disk_usage('/dev/loop0')\n",
    "#磁盘IO \n",
    "psutil.disk_io_counters()\n"
   ]
  },
  {
   "cell_type": "code",
   "execution_count": null,
   "metadata": {},
   "outputs": [],
   "source": [
    "#网络\n",
    "#网络IO\n",
    "psutil.net_io_counters()\n",
    "#网络地址\n",
    "psutil.net_if_addrs()\n",
    "#网络接口状态\n",
    "psutil.net_if_stats()\n",
    "#网络连接信息\n",
    "psutil.net_connections()\n"
   ]
  },
  {
   "cell_type": "code",
   "execution_count": 33,
   "metadata": {},
   "outputs": [
    {
     "name": "stdout",
     "output_type": "stream",
     "text": [
      "<bound method Process.name of psutil.Process(pid=22503, name='chromium-browser', started='17:41:27')> <bound method Process.exe of psutil.Process(pid=22503, name='chromium-browser', started='17:41:27')> <bound method Process.cwd of psutil.Process(pid=22503, name='chromium-browser', started='17:41:27')> <bound method Process.cmdline of psutil.Process(pid=22503, name='chromium-browser', started='17:41:27')> <bound method Process.ppid of psutil.Process(pid=22503, name='chromium-browser', started='17:41:27')> <bound method Process.parent of psutil.Process(pid=22503, name='chromium-browser', started='17:41:27')>\n",
      "<bound method Process.children of psutil.Process(pid=22503, name='chromium-browser', started='17:41:27')> <bound method Process.status of psutil.Process(pid=22503, name='chromium-browser', started='17:41:27')> <bound method Process.username of psutil.Process(pid=22503, name='chromium-browser', started='17:41:27')>\n"
     ]
    }
   ],
   "source": [
    "#进程信息\n",
    "#所有进程\n",
    "#psutil.pids()\n",
    "#获取指定进程\n",
    "p=psutil.Process(22503)\n",
    "#进程名称，进程exe路径，进程工作路径，启动命令，父进程ID，父进程名称\n",
    "print (p.name,p.exe,p.cwd,p.cmdline,p.ppid,p.parent)\n",
    "\n",
    "#子进程列表，进程状态，进程用户名\n",
    "print(p.children,p.status,p.username)\n",
    "\n"
   ]
  },
  {
   "cell_type": "code",
   "execution_count": null,
   "metadata": {},
   "outputs": [],
   "source": []
  },
  {
   "cell_type": "code",
   "execution_count": null,
   "metadata": {},
   "outputs": [],
   "source": []
  }
 ],
 "metadata": {
  "kernelspec": {
   "display_name": "Python 3",
   "language": "python",
   "name": "python3"
  },
  "language_info": {
   "codemirror_mode": {
    "name": "ipython",
    "version": 3
   },
   "file_extension": ".py",
   "mimetype": "text/x-python",
   "name": "python",
   "nbconvert_exporter": "python",
   "pygments_lexer": "ipython3",
   "version": "3.6.6"
  }
 },
 "nbformat": 4,
 "nbformat_minor": 2
}
