{
 "cells": [
  {
   "cell_type": "markdown",
   "metadata": {},
   "source": [
    "# 1.TCP"
   ]
  },
  {
   "cell_type": "code",
   "execution_count": 1,
   "metadata": {},
   "outputs": [
    {
     "name": "stdout",
     "output_type": "stream",
     "text": [
      "[b'HTTP/1.1 302 Moved Temporarily\\r\\nServer: nginx\\r\\nDate: Sun, 13 Jan 2019 12:54:45 GMT\\r\\nContent-Type: text/html\\r\\nContent-Length: 154\\r\\nConnection: close\\r\\nLocation: https://www.sina.com.cn/\\r\\nX-Via-CDN: f=edge,s=gwbn.beijing.ha2ts4.19.nb.sinaedge.com,c=175.191.203.73;\\r\\nX-Via-Edge: 154738408524649cbbfaf0904eedb1d0ad607\\r\\n\\r\\n<html>\\r\\n<head><title>302 Found</title></head>\\r\\n<body bgcolor=\"white\">\\r\\n<center><h1>302 Found</h1></center>\\r\\n<hr><center>nginx</center>\\r\\n</body>\\r\\n</html>\\r\\n']\n",
      "HTTP/1.1 302 Moved Temporarily\r\n",
      "Server: nginx\r\n",
      "Date: Sun, 13 Jan 2019 12:54:45 GMT\r\n",
      "Content-Type: text/html\r\n",
      "Content-Length: 154\r\n",
      "Connection: close\r\n",
      "Location: https://www.sina.com.cn/\r\n",
      "X-Via-CDN: f=edge,s=gwbn.beijing.ha2ts4.19.nb.sinaedge.com,c=175.191.203.73;\r\n",
      "X-Via-Edge: 154738408524649cbbfaf0904eedb1d0ad607\n"
     ]
    }
   ],
   "source": [
    "import socket\n",
    "#create a socket\n",
    "s = socket.socket(socket.AF_INET, socket.SOCK_STREAM)\n",
    "#build connection\n",
    "s.connect(('www.sina.com.cn',80))\n",
    "\n",
    "#send request\n",
    "s.send(b'GET / HTTP/1.1\\r\\nHost: www.sina.com.cn\\r\\nConnection: close\\r\\n\\r\\n')\n",
    "\n",
    "buffer = []\n",
    "while True:\n",
    "    d = s.recv(1024)\n",
    "    if d:\n",
    "        buffer.append(d)\n",
    "    else :\n",
    "        break\n",
    "print(buffer)\n",
    "data = b''.join(buffer)\n",
    "\n",
    "s.close()\n",
    "\n",
    "header,html = data.split(b'\\r\\n\\r\\n', 1)\n",
    "print(header.decode('utf-8'))\n",
    "with open(\"sina.html\",'wb') as f:\n",
    "    f.write(html)"
   ]
  },
  {
   "cell_type": "markdown",
   "metadata": {},
   "source": [
    "> 服务端进程绑定一个端口监听客户端的请求，每来一个客户端请求，服务端就和客户端建立socket连接。   \n",
    "由于有可能会有多个客户端来请求连接，服务端需要区分是和哪一个客户端的socket建立的连接。   \n",
    "一个socket连接依赖于4项：服务端地址，服务端端口，客户端地址，客户端端口。"
   ]
  },
  {
   "cell_type": "code",
   "execution_count": 3,
   "metadata": {},
   "outputs": [
    {
     "ename": "OSError",
     "evalue": "[Errno 98] Address already in use",
     "output_type": "error",
     "traceback": [
      "\u001b[0;31m---------------------------------------------------------------------------\u001b[0m",
      "\u001b[0;31mOSError\u001b[0m                                   Traceback (most recent call last)",
      "\u001b[0;32m<ipython-input-3-284dd4abd7fd>\u001b[0m in \u001b[0;36m<module>\u001b[0;34m\u001b[0m\n\u001b[1;32m      4\u001b[0m \u001b[0ms\u001b[0m \u001b[0;34m=\u001b[0m \u001b[0msocket\u001b[0m\u001b[0;34m.\u001b[0m\u001b[0msocket\u001b[0m\u001b[0;34m(\u001b[0m\u001b[0msocket\u001b[0m\u001b[0;34m.\u001b[0m\u001b[0mAF_INET\u001b[0m\u001b[0;34m,\u001b[0m \u001b[0msocket\u001b[0m\u001b[0;34m.\u001b[0m\u001b[0mSOCK_STREAM\u001b[0m\u001b[0;34m)\u001b[0m\u001b[0;34m\u001b[0m\u001b[0m\n\u001b[1;32m      5\u001b[0m \u001b[0;31m#bind port\u001b[0m\u001b[0;34m\u001b[0m\u001b[0;34m\u001b[0m\u001b[0m\n\u001b[0;32m----> 6\u001b[0;31m \u001b[0ms\u001b[0m\u001b[0;34m.\u001b[0m\u001b[0mbind\u001b[0m\u001b[0;34m(\u001b[0m\u001b[0;34m(\u001b[0m\u001b[0;34m'127.0.0.1'\u001b[0m\u001b[0;34m,\u001b[0m\u001b[0;36m9999\u001b[0m\u001b[0;34m)\u001b[0m\u001b[0;34m)\u001b[0m\u001b[0;34m\u001b[0m\u001b[0m\n\u001b[0m\u001b[1;32m      7\u001b[0m \u001b[0ms\u001b[0m\u001b[0;34m.\u001b[0m\u001b[0mlisten\u001b[0m\u001b[0;34m(\u001b[0m\u001b[0;36m5\u001b[0m\u001b[0;34m)\u001b[0m\u001b[0;34m\u001b[0m\u001b[0m\n\u001b[1;32m      8\u001b[0m \u001b[0mprint\u001b[0m\u001b[0;34m(\u001b[0m\u001b[0;34m\"Waiting for connection...\"\u001b[0m\u001b[0;34m)\u001b[0m\u001b[0;34m\u001b[0m\u001b[0m\n",
      "\u001b[0;31mOSError\u001b[0m: [Errno 98] Address already in use"
     ]
    }
   ],
   "source": [
    "#建立客户端连接，将客户端发来的str加上hello再发送回去\n",
    "#server\n",
    "import socket,time,threading\n",
    "s = socket.socket(socket.AF_INET, socket.SOCK_STREAM)\n",
    "#bind port\n",
    "s.bind(('127.0.0.1',9999))\n",
    "s.listen(5)\n",
    "print(\"Waiting for connection...\")\n",
    "def tcplink(sock,addr):\n",
    "    print(\"accept a new connection from  %s:%s\" %addr)\n",
    "    sock.send(b'welcome')\n",
    "    while True:\n",
    "        data = sock.recv(1024)\n",
    "        time.sleep(1)\n",
    "        if not data or data.decode('utf8-') == 'exit':\n",
    "            print(\"Sever listen Exit\")\n",
    "            break\n",
    "        sock.send((\"Hello %s\"  %data.decode('utf-8')).encode('utf-8'))\n",
    "    sock.close()\n",
    "    print(\"connection from  %s:%s   ended\"  %addr)\n",
    "while True:\n",
    "    print(\"******************\")\n",
    "    #接受一个新连接\n",
    "    sock,addr=s.accept()\n",
    "    #创建新线程来处理连接\n",
    "    t = threading.Thread(target=tcplink, args=(sock, addr))\n",
    "    t.start()\n",
    "\n",
    "            \n",
    "        "
   ]
  },
  {
   "cell_type": "code",
   "execution_count": 4,
   "metadata": {},
   "outputs": [
    {
     "ename": "KeyboardInterrupt",
     "evalue": "",
     "output_type": "error",
     "traceback": [
      "\u001b[0;31m---------------------------------------------------------------------------\u001b[0m",
      "\u001b[0;31mKeyboardInterrupt\u001b[0m                         Traceback (most recent call last)",
      "\u001b[0;32m<ipython-input-4-a8ee7f032365>\u001b[0m in \u001b[0;36m<module>\u001b[0;34m\u001b[0m\n\u001b[1;32m      4\u001b[0m \u001b[0;31m#建立连接\u001b[0m\u001b[0;34m\u001b[0m\u001b[0;34m\u001b[0m\u001b[0m\n\u001b[1;32m      5\u001b[0m \u001b[0mc\u001b[0m\u001b[0;34m.\u001b[0m\u001b[0mconnect\u001b[0m\u001b[0;34m(\u001b[0m\u001b[0;34m(\u001b[0m\u001b[0;34m'127.0.0.1'\u001b[0m\u001b[0;34m,\u001b[0m\u001b[0;36m9999\u001b[0m\u001b[0;34m)\u001b[0m\u001b[0;34m)\u001b[0m\u001b[0;34m\u001b[0m\u001b[0m\n\u001b[0;32m----> 6\u001b[0;31m \u001b[0mrecv_data\u001b[0m \u001b[0;34m=\u001b[0m \u001b[0;34m(\u001b[0m\u001b[0mc\u001b[0m\u001b[0;34m.\u001b[0m\u001b[0mrecv\u001b[0m\u001b[0;34m(\u001b[0m\u001b[0;36m1024\u001b[0m\u001b[0;34m)\u001b[0m\u001b[0;34m)\u001b[0m\u001b[0;34m.\u001b[0m\u001b[0mdecode\u001b[0m\u001b[0;34m(\u001b[0m\u001b[0;34m'utf-8'\u001b[0m\u001b[0;34m)\u001b[0m\u001b[0;34m\u001b[0m\u001b[0m\n\u001b[0m\u001b[1;32m      7\u001b[0m \u001b[0mprint\u001b[0m\u001b[0;34m(\u001b[0m\u001b[0mrecv_data\u001b[0m\u001b[0;34m)\u001b[0m\u001b[0;34m\u001b[0m\u001b[0m\n\u001b[1;32m      8\u001b[0m \u001b[0;32mfor\u001b[0m \u001b[0mdata\u001b[0m \u001b[0;32min\u001b[0m \u001b[0;34m[\u001b[0m\u001b[0;34mb'Bob'\u001b[0m\u001b[0;34m,\u001b[0m\u001b[0;34mb'suqiang'\u001b[0m\u001b[0;34m]\u001b[0m\u001b[0;34m:\u001b[0m\u001b[0;34m\u001b[0m\u001b[0m\n",
      "\u001b[0;31mKeyboardInterrupt\u001b[0m: "
     ]
    }
   ],
   "source": [
    "#client\n",
    "import socket\n",
    "c = socket.socket(socket.AF_INET, socket.SOCK_STREAM)\n",
    "#建立连接\n",
    "c.connect(('127.0.0.1',9999))\n",
    "recv_data = (c.recv(1024)).decode('utf-8')\n",
    "print(recv_data)\n",
    "for data in [b'Bob',b'suqiang']:\n",
    "    c.send(data)\n",
    "    print(c.recv(1024).decode('utf-8'))\n",
    "c.send(b'exit')\n",
    "c.close()"
   ]
  },
  {
   "cell_type": "markdown",
   "metadata": {},
   "source": [
    "# 2.UDP编程"
   ]
  },
  {
   "cell_type": "markdown",
   "metadata": {},
   "source": [
    ">  UDP无需建立连接，直接发达，但是不保证是否到达，优点是速度快。"
   ]
  },
  {
   "cell_type": "code",
   "execution_count": 6,
   "metadata": {},
   "outputs": [
    {
     "name": "stdout",
     "output_type": "stream",
     "text": [
      "Bind UDP on 1314\n",
      "Receive data from  127.0.0.1:37000\n",
      "Receive data from  127.0.0.1:37000\n",
      "Receive data from  127.0.0.1:54483\n",
      "Receive data from  127.0.0.1:54483\n",
      "Receive data from  127.0.0.1:44320\n",
      "Receive data from  127.0.0.1:44320\n",
      "Receive data from  127.0.0.1:60253\n",
      "Receive data from  127.0.0.1:60253\n",
      "Receive data from  127.0.0.1:44013\n",
      "Receive data from  127.0.0.1:44013\n",
      "Receive data from  127.0.0.1:36986\n",
      "Receive data from  127.0.0.1:36986\n",
      "Receive data from  127.0.0.1:41846\n",
      "Receive data from  127.0.0.1:41846\n",
      "Receive data from  127.0.0.1:56303\n",
      "Receive data from  127.0.0.1:56303\n",
      "Receive data from  127.0.0.1:59831\n",
      "Receive data from  127.0.0.1:59831\n",
      "Receive data from  127.0.0.1:39390\n",
      "Receive data from  127.0.0.1:39390\n",
      "Receive data from  127.0.0.1:56716\n",
      "Receive data from  127.0.0.1:56716\n",
      "Receive data from  127.0.0.1:57058\n",
      "Receive data from  127.0.0.1:57058\n",
      "Receive data from  127.0.0.1:49764\n",
      "Receive data from  127.0.0.1:49764\n"
     ]
    },
    {
     "ename": "KeyboardInterrupt",
     "evalue": "",
     "output_type": "error",
     "traceback": [
      "\u001b[0;31m---------------------------------------------------------------------------\u001b[0m",
      "\u001b[0;31mKeyboardInterrupt\u001b[0m                         Traceback (most recent call last)",
      "\u001b[0;32m<ipython-input-6-868e1521d6d6>\u001b[0m in \u001b[0;36m<module>\u001b[0;34m\u001b[0m\n\u001b[1;32m      6\u001b[0m \u001b[0mprint\u001b[0m\u001b[0;34m(\u001b[0m\u001b[0;34m\"Bind UDP on 1314\"\u001b[0m\u001b[0;34m)\u001b[0m\u001b[0;34m\u001b[0m\u001b[0m\n\u001b[1;32m      7\u001b[0m \u001b[0;32mwhile\u001b[0m \u001b[0;32mTrue\u001b[0m\u001b[0;34m:\u001b[0m\u001b[0;34m\u001b[0m\u001b[0m\n\u001b[0;32m----> 8\u001b[0;31m     \u001b[0mdata\u001b[0m\u001b[0;34m,\u001b[0m\u001b[0maddr\u001b[0m \u001b[0;34m=\u001b[0m \u001b[0ms\u001b[0m\u001b[0;34m.\u001b[0m\u001b[0mrecvfrom\u001b[0m\u001b[0;34m(\u001b[0m\u001b[0;36m1024\u001b[0m\u001b[0;34m)\u001b[0m\u001b[0;34m\u001b[0m\u001b[0m\n\u001b[0m\u001b[1;32m      9\u001b[0m     \u001b[0mprint\u001b[0m\u001b[0;34m(\u001b[0m\u001b[0;34m\"Receive data from  %s:%s\"\u001b[0m   \u001b[0;34m%\u001b[0m\u001b[0maddr\u001b[0m\u001b[0;34m)\u001b[0m\u001b[0;34m\u001b[0m\u001b[0m\n\u001b[1;32m     10\u001b[0m     \u001b[0ms\u001b[0m\u001b[0;34m.\u001b[0m\u001b[0msendto\u001b[0m\u001b[0;34m(\u001b[0m\u001b[0;34mb\"Hi %s\"\u001b[0m  \u001b[0;34m%\u001b[0m\u001b[0mdata\u001b[0m\u001b[0;34m,\u001b[0m\u001b[0maddr\u001b[0m\u001b[0;34m)\u001b[0m\u001b[0;34m\u001b[0m\u001b[0m\n",
      "\u001b[0;31mKeyboardInterrupt\u001b[0m: "
     ]
    }
   ],
   "source": [
    "#server\n",
    "#建立连接,SOCK_DGRAM表示建立的是socket连接\n",
    "s = socket.socket(socket.AF_INET, socket.SOCK_DGRAM)\n",
    "#\n",
    "s.bind(('127.0.0.1',1314))\n",
    "print(\"Bind UDP on 1314\")\n",
    "while True:\n",
    "    data,addr = s.recvfrom(1024)\n",
    "    print(\"Receive data from  %s:%s\"   %addr)\n",
    "    s.sendto(b\"Hi %s\"  %data,addr)"
   ]
  },
  {
   "cell_type": "code",
   "execution_count": null,
   "metadata": {},
   "outputs": [],
   "source": [
    "#client\n",
    "import socket\n",
    "s = socket.socket(socket.AF_INET, socket.SOCK_DGRAM)\n",
    "for data in [b'hx',b'msc']:\n",
    "    s.sendto(data,(('127.0.0.1',1314)))\n",
    "    print(s.recv(1024).decode('utf-8'))\n",
    "s.close()"
   ]
  },
  {
   "cell_type": "code",
   "execution_count": null,
   "metadata": {},
   "outputs": [],
   "source": []
  }
 ],
 "metadata": {
  "kernelspec": {
   "display_name": "Python 3",
   "language": "python",
   "name": "python3"
  },
  "language_info": {
   "codemirror_mode": {
    "name": "ipython",
    "version": 3
   },
   "file_extension": ".py",
   "mimetype": "text/x-python",
   "name": "python",
   "nbconvert_exporter": "python",
   "pygments_lexer": "ipython3",
   "version": "3.6.6"
  }
 },
 "nbformat": 4,
 "nbformat_minor": 2
}
