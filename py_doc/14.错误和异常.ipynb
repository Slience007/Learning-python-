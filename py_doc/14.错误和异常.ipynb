{
 "cells": [
  {
   "cell_type": "markdown",
   "metadata": {},
   "source": [
    "# 1.错误和异常"
   ]
  },
  {
   "cell_type": "code",
   "execution_count": 8,
   "metadata": {},
   "outputs": [
    {
     "name": "stdout",
     "output_type": "stream",
     "text": [
      "try...\n",
      "result: 5.0\n",
      "finally...\n",
      "END\n",
      "end\n"
     ]
    }
   ],
   "source": [
    "#错误：空指针\n",
    "#异常：程序运行期间无法预测的，比如写文件的时候，磁盘满了；通信的时候，网络断了等\n",
    "#try...except ...finally\n",
    "try:\n",
    "    print(\"try...\")\n",
    "    r = 10/2\n",
    "    print('result:',r)\n",
    "except ZeroDivisionError as e:\n",
    "    print('except:',e)\n",
    "finally:\n",
    "    print(\"finally...\")\n",
    "print(\"END\")\n",
    "#try中包含可能可能会出错的代码\n",
    "\n",
    "\n",
    "#定义一个错误class\n",
    "class FooErr(ValueError):\n",
    "    pass\n",
    "def foo(s):\n",
    "    n = int(s)\n",
    "    if n ==0:\n",
    "        raise FooErr(\"invalid value :%s\" %s)\n",
    "    return 10 / n\n",
    "foo('10')\n",
    "\n",
    "print(\"end\")"
   ]
  },
  {
   "cell_type": "markdown",
   "metadata": {},
   "source": [
    "# 2.调试"
   ]
  },
  {
   "cell_type": "code",
   "execution_count": 9,
   "metadata": {},
   "outputs": [],
   "source": [
    "# print打印出变量的值\n",
    "\n",
    "#断言：assert，python -o  xx.py来关闭assert\n",
    "\n",
    "#logging\n",
    "\n",
    "#pdb  python -m pdb  xx.py\n",
    "#命令1 查看代码  命令n单步执行代码  p 变量名 来查看变量 \n",
    "\n",
    "#设置断点\n",
    "#import pdb\n",
    "#pdb.set_trace()   程序运行到这里会暂停\n",
    "\n",
    "#IDE\n"
   ]
  },
  {
   "cell_type": "markdown",
   "metadata": {},
   "source": [
    "# 3.单元测试"
   ]
  },
  {
   "cell_type": "code",
   "execution_count": 16,
   "metadata": {},
   "outputs": [],
   "source": [
    "class Dict(dict):\n",
    "    def __init__(self,**kw):\n",
    "        super().__init__(**kw)\n",
    "    def __getsttr__(self,key):\n",
    "        try:\n",
    "            return self[key]\n",
    "        except KeyError:\n",
    "            raise AttributeError(r\"'Dict' object has no attr %s\" %key)\n",
    "    def __setattr__(self,key,value):\n",
    "        self[key] = value\n",
    "#编写测试\n",
    "import unittest\n",
    "\n",
    "class TestDict(unittest.TestCase):\n",
    "    def test_init(self):\n",
    "        d = Dict(a=1,b=\"test\")\n",
    "        self.assertEqual(d.a,1)\n",
    "        self.assertEqual(d.b,\"test\")\n",
    "        self.assertTrue(isintance(d,dicr))\n",
    "    def test_attr(self):\n",
    "        d = Dict()\n",
    "        d[\"key\"] = \"value\"\n",
    "        self.assertEqual(d.key,\"value\")\n",
    "        self.assertTrue(\"key\" in d)\n",
    "    def test_key(self):\n",
    "        d = Dict()\n",
    "        d[\"key\"] = \"value\"\n",
    "        self.assertEqual(d[\"key\"],\"value\")\n",
    "    def test_keyerror(self):\n",
    "        d = Dict()\n",
    "        with self.assertRaise(KeyError):\n",
    "            value = d['empty']\n",
    "    def test_attrerror(self):\n",
    "        d = Dict()\n",
    "        with self.assertRaise(AttributeError):\n",
    "            value =  d.empty\n",
    "#不以test开头的方法不被认为是测试方法，测试的时候不会执行\n",
    "\n",
    "setUp()\n",
    "\n",
    "tearDown()\n",
    "\n",
    "\n",
    "        "
   ]
  },
  {
   "cell_type": "markdown",
   "metadata": {},
   "source": [
    "# 4.文档测试"
   ]
  },
  {
   "cell_type": "code",
   "execution_count": 21,
   "metadata": {},
   "outputs": [
    {
     "name": "stdout",
     "output_type": "stream",
     "text": [
      "9\n",
      "**********************************************************************\n",
      "File \"__main__\", line 4, in __main__.abso\n",
      "Failed example:\n",
      "    abso(9)\n",
      "Expected:\n",
      "    8\n",
      "Got:\n",
      "    9\n",
      "**********************************************************************\n",
      "1 items had failures:\n",
      "   1 of   1 in __main__.abso\n",
      "***Test Failed*** 1 failures.\n"
     ]
    },
    {
     "data": {
      "text/plain": [
       "TestResults(failed=1, attempted=1)"
      ]
     },
     "execution_count": 21,
     "metadata": {},
     "output_type": "execute_result"
    }
   ],
   "source": [
    "import doctest\n",
    "def abso(n):\n",
    "    '''\n",
    "    >>> abso(9)\n",
    "    8\n",
    "    '''\n",
    "    if n >= 0:\n",
    "        return n\n",
    "    else:\n",
    "        return -n\n",
    "print(abso(9))\n",
    "doctest.testmod()\n",
    "#如果输出什么也没有，说明doctest执行是没问题的\n",
    "#如果有问题，就会报错"
   ]
  },
  {
   "cell_type": "code",
   "execution_count": null,
   "metadata": {},
   "outputs": [],
   "source": []
  },
  {
   "cell_type": "code",
   "execution_count": null,
   "metadata": {},
   "outputs": [],
   "source": []
  }
 ],
 "metadata": {
  "kernelspec": {
   "display_name": "Python 3",
   "language": "python",
   "name": "python3"
  },
  "language_info": {
   "codemirror_mode": {
    "name": "ipython",
    "version": 3
   },
   "file_extension": ".py",
   "mimetype": "text/x-python",
   "name": "python",
   "nbconvert_exporter": "python",
   "pygments_lexer": "ipython3",
   "version": "3.6.6"
  }
 },
 "nbformat": 4,
 "nbformat_minor": 2
}
