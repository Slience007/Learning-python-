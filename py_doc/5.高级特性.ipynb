{
 "cells": [
  {
   "cell_type": "markdown",
   "metadata": {},
   "source": [
    "## 1.切片"
   ]
  },
  {
   "cell_type": "code",
   "execution_count": 17,
   "metadata": {},
   "outputs": [
    {
     "name": "stdout",
     "output_type": "stream",
     "text": [
      "['Bob', 'Stephen', 'Vicent']\n",
      "['Bob', 'Stephen', 'Vicent']\n",
      "['Bob', 'Stephen', 'Vicent']\n",
      "['Bob', 'Stephen', 'Vicent']\n",
      "['Bob', 'Stephen', 'Vicent', 'Mark']\n",
      "['Vicent', 'Mark']\n",
      "['Bob', 'Vicent']\n",
      "Hello\n"
     ]
    }
   ],
   "source": [
    "l1 = [\"Bob\",\"Stephen\",\"Vicent\",\"Mark\"]\n",
    "#取前三个元素\n",
    "#方法1\n",
    "l2 =[]\n",
    "for i in range(3):\n",
    "    l2.append(l1[i])\n",
    "print(l2)\n",
    "    \n",
    "#方法2\n",
    "print([l1[0],l1[1],l1[2]])\n",
    "\n",
    "#方法3\n",
    "print(l1[:3])\n",
    "\n",
    "#l[m:n] 取index m到n的对应元素值，不包括n，m为0时 可以不写\n",
    "print(l1[:3])\n",
    "#复制一个list\n",
    "print(l1[:])\n",
    "\n",
    "#取倒数第二个元素和最好一个元素\n",
    "print(l1[-2:])\n",
    "#取前三个，每隔一个取一个\n",
    "print(l1[:4:2])\n",
    "\n",
    "#字符串\n",
    "\n",
    "str1 = \"Hello world\"\n",
    "print(str1[0:5])"
   ]
  },
  {
   "cell_type": "code",
   "execution_count": 46,
   "metadata": {},
   "outputs": [
    {
     "name": "stdout",
     "output_type": "stream",
     "text": [
      "----\n",
      "Hello     woo\n"
     ]
    }
   ],
   "source": [
    "#eg\n",
    "#去掉字符串首尾的空格\n",
    "def del_blank(str1):\n",
    "    while str1[0:1] == ' ':\n",
    "        print(\"----\")\n",
    "        str1 =str1[1:]\n",
    "    while str1[-1:] == ' ':\n",
    "        print(\"=====\")\n",
    "        str1 =str1[:-1]\n",
    "    else:\n",
    "        return str1\n",
    "str2 =\" Hello\"\n",
    "print(del_blank(\" Hello     woo\"))\n",
    "    "
   ]
  },
  {
   "cell_type": "markdown",
   "metadata": {},
   "source": [
    "## 2.迭代"
   ]
  },
  {
   "cell_type": "code",
   "execution_count": 54,
   "metadata": {},
   "outputs": [
    {
     "name": "stdout",
     "output_type": "stream",
     "text": [
      "suqiang\n",
      "18\n",
      "suqiang\n",
      "18\n",
      "name suqiang\n",
      "age 18\n"
     ]
    }
   ],
   "source": [
    "#给定一个list tuple dict我们可以通过for循环来遍历所有元素，这种遍历成为迭代\n",
    "\n",
    "dict1 ={\"name\":\"suqiang\",\"age\":18}\n",
    "\n",
    "for key in dict1:\n",
    "    print (dict1[key])\n",
    "      \n",
    "for value in dict1.values():\n",
    "    print(value\n",
    "          \n",
    "for k,v in dict1.items():\n",
    "    print(k,v)"
   ]
  },
  {
   "cell_type": "code",
   "execution_count": 59,
   "metadata": {},
   "outputs": [
    {
     "name": "stdout",
     "output_type": "stream",
     "text": [
      "False\n",
      "True\n",
      "0 1\n",
      "1 3\n",
      "2 2\n",
      "3 4\n"
     ]
    }
   ],
   "source": [
    "#如何判断一个对象是可迭代对象\n",
    "\n",
    "from collections import Iterable\n",
    "print(isinstance(1,Iterable))\n",
    "\n",
    "print(isinstance(\"\",Iterable))\n",
    "\n",
    "#索引-值对\n",
    "for i,value in enumerate([1,3,2,4]):\n",
    "    print(i,value)"
   ]
  },
  {
   "cell_type": "code",
   "execution_count": 71,
   "metadata": {},
   "outputs": [
    {
     "name": "stdout",
     "output_type": "stream",
     "text": [
      "(1, 90)\n"
     ]
    }
   ],
   "source": [
    "#利用遍历，返回最大值和最小值\n",
    "def min_max(*lst):\n",
    "    min = max = lst[0]\n",
    "    for i in lst:\n",
    "        if i >= max:\n",
    "            max = i\n",
    "        if i < min:\n",
    "            min = i\n",
    "    return (min,max)\n",
    "lst3 =[1,2,3,5,8,90]\n",
    "print(min_max(*lst3))"
   ]
  },
  {
   "cell_type": "code",
   "execution_count": null,
   "metadata": {},
   "outputs": [],
   "source": []
  },
  {
   "cell_type": "code",
   "execution_count": null,
   "metadata": {},
   "outputs": [],
   "source": []
  }
 ],
 "metadata": {
  "kernelspec": {
   "display_name": "Python 3",
   "language": "python",
   "name": "python3"
  },
  "language_info": {
   "codemirror_mode": {
    "name": "ipython",
    "version": 3
   },
   "file_extension": ".py",
   "mimetype": "text/x-python",
   "name": "python",
   "nbconvert_exporter": "python",
   "pygments_lexer": "ipython3",
   "version": "3.6.6"
  }
 },
 "nbformat": 4,
 "nbformat_minor": 2
}
