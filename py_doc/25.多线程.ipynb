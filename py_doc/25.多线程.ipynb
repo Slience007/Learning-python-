{
 "cells": [
  {
   "cell_type": "markdown",
   "metadata": {},
   "source": [
    "# 1.多线程"
   ]
  },
  {
   "cell_type": "code",
   "execution_count": 9,
   "metadata": {},
   "outputs": [
    {
     "name": "stdout",
     "output_type": "stream",
     "text": [
      " MainThread  run begin .....\n",
      "Threading is running,current thread name is : loop_num\n",
      "current thread name is :loop_num\n",
      "10 -------> 10\n",
      "current thread name is :loop_num\n",
      "9 -------> 9\n",
      "current thread name is :loop_num\n",
      "8 -------> 8\n",
      "current thread name is :loop_num\n",
      "7 -------> 7\n",
      "current thread name is :loop_num\n",
      "6 -------> 6\n",
      "Thread is end,current therad name is :loop_num \n",
      "MainThread  run  begin .....\n"
     ]
    }
   ],
   "source": [
    "#Python的标准库提供了两个模块：_thread和threading，_thread是低级模块，\n",
    "#threading是高级模块，对_thread进行了封装。绝大多数情况下，我们只需要使用threading这个高级模块。\n",
    "#启动一个线程就是把一个函数传入并创建thread实例，然后start()\n",
    "import time,threading\n",
    "def loop():\n",
    "    print(\"Threading is running,current thread name is : %s\"  %threading.current_thread().name)\n",
    "    n = 10\n",
    "    while n>5:\n",
    "        print(\"current thread name is :%s\" %threading.current_thread().name)\n",
    "        print(n,\"------->\",n)\n",
    "        n = n-1\n",
    "    print(\"Thread is end,current therad name is :%s \"  %threading.current_thread().name)\n",
    "        \n",
    "print(\" %s  run begin .....\"  %threading.current_thread().name)\n",
    "t = threading.Thread(target=loop,name=\"loop_num\")\n",
    "t.start()\n",
    "t.join()\n",
    "print(\"%s  run  begin .....\"  %threading.current_thread().name)\n",
    "\n",
    "\n"
   ]
  },
  {
   "cell_type": "markdown",
   "metadata": {},
   "source": [
    "# 2.线程锁"
   ]
  },
  {
   "cell_type": "code",
   "execution_count": null,
   "metadata": {},
   "outputs": [],
   "source": []
  },
  {
   "cell_type": "code",
   "execution_count": 24,
   "metadata": {},
   "outputs": [
    {
     "name": "stdout",
     "output_type": "stream",
     "text": [
      "your balance is :24\n"
     ]
    }
   ],
   "source": [
    "#多进程：多个进程之中，同一个变量，各有一份拷贝在自己的进程中，互不影响。\n",
    "#多线程：各个线程共同拥有所以变量，任何一个线程都可以任何一个变量。\n",
    "#多线程共享最大的风险在于多个线程同时修改同一个变量，把内容给改乱了。\n",
    "\n",
    "#例子：一个变量是如何被改乱的？\n",
    "import time,threading\n",
    "balance = 0\n",
    "def change_balance(n):\n",
    "    #print(\"thread name is :%s\" %threading.current_thread().name)\n",
    "    global balance\n",
    "    balance = balance  + n\n",
    "    balance = balance  - n\n",
    "    #print(\"youe balace is : %s \" %balance)\n",
    "#change_balance(5)\n",
    "\n",
    "def start_thread(n):\n",
    "    for i in range(10000000):\n",
    "        change_balance(n)\n",
    "#start_thread()\n",
    "#craete thread instance\n",
    "\n",
    "t1 = threading.Thread(target=start_thread,args=(5,))\n",
    "t2 = threading.Thread(target=start_thread,args=(8,)) \n",
    "t1.start()\n",
    "t2.start()\n",
    "t1.join()\n",
    "t2.join()\n",
    "print(\"your balance is :%s\" %balance)\n",
    "#执行次数足够多的情况下，balance就不等于0"
   ]
  },
  {
   "cell_type": "code",
   "execution_count": 26,
   "metadata": {},
   "outputs": [
    {
     "name": "stdout",
     "output_type": "stream",
     "text": [
      "your balance is :0\n"
     ]
    }
   ],
   "source": [
    "#如果要确保balance不被改坏，就要给change_balance函数加上锁，当线程执行到change_balance时，我们说该线程获得了锁\n",
    "#因此其它线程就不能同时执行change_balance()，创建一个锁就是通过threading.Lock()来实现\n",
    "\n",
    "#改进版的change_balance() 如下：\n",
    "import time,threading\n",
    "balance = 0\n",
    "lock = threading.Lock()\n",
    "def change_balance(n):\n",
    "    #print(\"thread name is :%s\" %threading.current_thread().name)\n",
    "    global balance\n",
    "    balance = balance  + n\n",
    "    balance = balance  - n\n",
    "    #print(\"youe balace is : %s \" %balance)\n",
    "#change_balance(5)\n",
    "\n",
    "def start_thread(n):\n",
    "    for i in range(10000000):\n",
    "        lock.acquire()\n",
    "        try:\n",
    "            change_balance(n)\n",
    "        finally:\n",
    "            lock.release()\n",
    "#start_thread()\n",
    "#craete thread instance\n",
    "\n",
    "t1 = threading.Thread(target=start_thread,args=(5,))\n",
    "t2 = threading.Thread(target=start_thread,args=(8,)) \n",
    "t1.start()\n",
    "t2.start()\n",
    "t1.join()\n",
    "t2.join()\n",
    "print(\"your balance is :%s\" %balance)\n"
   ]
  },
  {
   "cell_type": "markdown",
   "metadata": {},
   "source": [
    "# 3.多核CPU"
   ]
  },
  {
   "cell_type": "code",
   "execution_count": null,
   "metadata": {},
   "outputs": [
    {
     "name": "stdout",
     "output_type": "stream",
     "text": [
      "4\n"
     ]
    }
   ],
   "source": [
    "import threading, multiprocessing\n",
    "print(multiprocessing.cpu_count())\n",
    "\n",
    "def loop():\n",
    "    n = 2\n",
    "    while True:\n",
    "        n = n*n\n",
    "for i in range(multiprocessing.cpu_count()):\n",
    "    t = threading.Thread(target=loop)\n",
    "    t.start()"
   ]
  },
  {
   "cell_type": "code",
   "execution_count": null,
   "metadata": {},
   "outputs": [],
   "source": [
    "#ython解释器由于设计时有GIL全局锁，导致了多线程无法利用多核。多线程的并发在Python中就是一个美丽的梦。\n",
    "#因为Python的线程虽然是真正的线程，但解释器执行代码时，有一个GIL锁：Global Interpreter Lock，\n",
    "#任何Python线程执行前，必须先获得GIL锁，然后，每执行100条字节码，解释器就自动释放GIL锁，让别的线程有机会执行。这个GIL全局锁实际上把所有线程的执行代码都给上了锁，\n",
    "#所以，多线程在Python中只能交替执行，即使100个线程跑在100核CPU上，也只能用到1个核。"
   ]
  }
 ],
 "metadata": {
  "kernelspec": {
   "display_name": "Python 3",
   "language": "python",
   "name": "python3"
  },
  "language_info": {
   "codemirror_mode": {
    "name": "ipython",
    "version": 3
   },
   "file_extension": ".py",
   "mimetype": "text/x-python",
   "name": "python",
   "nbconvert_exporter": "python",
   "pygments_lexer": "ipython3",
   "version": "3.6.6"
  }
 },
 "nbformat": 4,
 "nbformat_minor": 2
}
