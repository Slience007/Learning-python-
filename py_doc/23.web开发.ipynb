{
 "cells": [
  {
   "cell_type": "markdown",
   "metadata": {},
   "source": [
    "# 1 http"
   ]
  },
  {
   "cell_type": "code",
   "execution_count": null,
   "metadata": {},
   "outputs": [],
   "source": [
    "#HTTP协议是用于传输HTML的协议，用于浏览器和服务器间的通信。\n",
    "#步骤1：浏览器首先向服务器发送HTTP请求，请求包括：\n",
    "'''方法：GET还是POST，GET仅请求资源，POST会附带用户数据；\n",
    "\n",
    "路径：/full/url/path；\n",
    "\n",
    "域名：由Host头指定：Host: www.sina.com.cn\n",
    "\n",
    "以及其他相关的Header；\n",
    "\n",
    "如果是POST，那么请求还包括一个Body，包含用户数据。\n",
    "\n",
    "步骤2：服务器向浏览器返回HTTP响应，响应包括：\n",
    "\n",
    "响应代码：200表示成功，3xx表示重定向，4xx表示客户端发送的请求有错误，5xx表示服务器端处理时发生了错误；\n",
    "\n",
    "响应类型：由Content-Type指定；\n",
    "\n",
    "以及其他相关的Header；\n",
    "\n",
    "通常服务器的HTTP响应会携带内容，也就是有一个Body，包含响应的内容，网页的HTML源码就在Body中。\n",
    "\n",
    "步骤3：如果浏览器还需要继续向服务器请求其他资源，比如图片，就再次发出HTTP请求，重复步骤1、2。\n",
    "\n",
    "#Web采用的HTTP协议采用了非常简单的请求-响应模式，从而大大简化了开发。\n",
    "#当我们编写一个页面时，我们只需要在HTTP请求中把HTML发送出去，不需要考虑如何附带图片、视频等，浏览器如果需要请求图片和视频，它会发送另一个HTTP请求，因此，一个HTTP请求只处理一个资源。\n",
    "'''\n",
    "\n",
    "\n",
    "#HTML\n",
    "#CSS\n",
    "#层叠式样表\n",
    "#JavaScript\n"
   ]
  },
  {
   "cell_type": "markdown",
   "metadata": {},
   "source": [
    "# 2.WSGI"
   ]
  },
  {
   "cell_type": "code",
   "execution_count": 1,
   "metadata": {},
   "outputs": [],
   "source": [
    "#Web Server Gateway Interface\n",
    "#app.py\n",
    "def application(envrion,start_response):\n",
    "    start_response('200 ok',[('Content-Type','text/html')])\n",
    "    return [b'Hello ,web!']"
   ]
  },
  {
   "cell_type": "code",
   "execution_count": 2,
   "metadata": {},
   "outputs": [
    {
     "ename": "ModuleNotFoundError",
     "evalue": "No module named 'hello'",
     "output_type": "error",
     "traceback": [
      "\u001b[0;31m---------------------------------------------------------------------------\u001b[0m",
      "\u001b[0;31mModuleNotFoundError\u001b[0m                       Traceback (most recent call last)",
      "\u001b[0;32m<ipython-input-2-91b6da45aaed>\u001b[0m in \u001b[0;36m<module>\u001b[0;34m\u001b[0m\n\u001b[1;32m      1\u001b[0m \u001b[0;32mfrom\u001b[0m \u001b[0mwsgiref\u001b[0m\u001b[0;34m.\u001b[0m\u001b[0msimple_server\u001b[0m \u001b[0;32mimport\u001b[0m \u001b[0mmake_server\u001b[0m\u001b[0;34m\u001b[0m\u001b[0;34m\u001b[0m\u001b[0m\n\u001b[0;32m----> 2\u001b[0;31m \u001b[0;32mfrom\u001b[0m \u001b[0mhello\u001b[0m \u001b[0;32mimport\u001b[0m \u001b[0mapplication\u001b[0m\u001b[0;34m\u001b[0m\u001b[0;34m\u001b[0m\u001b[0m\n\u001b[0m\u001b[1;32m      3\u001b[0m \u001b[0mhttpd\u001b[0m \u001b[0;34m=\u001b[0m \u001b[0mmake_sever\u001b[0m\u001b[0;34m(\u001b[0m\u001b[0;34m''\u001b[0m\u001b[0;34m,\u001b[0m\u001b[0;36m8000\u001b[0m\u001b[0;34m,\u001b[0m\u001b[0mapplication\u001b[0m\u001b[0;34m)\u001b[0m\u001b[0;34m\u001b[0m\u001b[0;34m\u001b[0m\u001b[0m\n\u001b[1;32m      4\u001b[0m \u001b[0mprint\u001b[0m\u001b[0;34m(\u001b[0m\u001b[0;34m\"serving  http on listen port  8000\"\u001b[0m\u001b[0;34m)\u001b[0m\u001b[0;34m\u001b[0m\u001b[0;34m\u001b[0m\u001b[0m\n\u001b[1;32m      5\u001b[0m \u001b[0mhttpd\u001b[0m\u001b[0;34m.\u001b[0m\u001b[0mserve_forever\u001b[0m\u001b[0;34m(\u001b[0m\u001b[0;34m)\u001b[0m\u001b[0;34m\u001b[0m\u001b[0;34m\u001b[0m\u001b[0m\n",
      "\u001b[0;31mModuleNotFoundError\u001b[0m: No module named 'hello'"
     ]
    }
   ],
   "source": [
    "from wsgiref.simple_server import make_server\n",
    "from hello import application \n",
    "httpd = make_sever('',8000,application)\n",
    "print(\"serving  http on listen port  8000\")\n",
    "httpd.serve_forever()"
   ]
  },
  {
   "cell_type": "markdown",
   "metadata": {},
   "source": [
    "# 3 web框架"
   ]
  },
  {
   "cell_type": "code",
   "execution_count": null,
   "metadata": {},
   "outputs": [],
   "source": [
    "'''\n",
    "除了Flask，常见的Python Web框架还有：\n",
    "\n",
    "Django：全能型Web框架；\n",
    "\n",
    "web.py：一个小巧的Web框架；\n",
    "\n",
    "Bottle：和Flask类似的Web框架；\n",
    "\n",
    "Tornado：Facebook的开源异步Web框架。\n",
    "'''"
   ]
  },
  {
   "cell_type": "code",
   "execution_count": null,
   "metadata": {},
   "outputs": [],
   "source": []
  }
 ],
 "metadata": {
  "kernelspec": {
   "display_name": "Python 3",
   "language": "python",
   "name": "python3"
  },
  "language_info": {
   "codemirror_mode": {
    "name": "ipython",
    "version": 3
   },
   "file_extension": ".py",
   "mimetype": "text/x-python",
   "name": "python",
   "nbconvert_exporter": "python",
   "pygments_lexer": "ipython3",
   "version": "3.6.7"
  }
 },
 "nbformat": 4,
 "nbformat_minor": 2
}
