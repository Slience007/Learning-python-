{
 "cells": [
  {
   "cell_type": "markdown",
   "metadata": {},
   "source": [
    "# 1.返回函数"
   ]
  },
  {
   "cell_type": "code",
   "execution_count": 14,
   "metadata": {},
   "outputs": [
    {
     "name": "stdout",
     "output_type": "stream",
     "text": [
      "7\n"
     ]
    }
   ],
   "source": [
    "#普通求和函数\n",
    "def sum_cal(*args):\n",
    "    s = 0\n",
    "    for i in args:\n",
    "        s  = s + i\n",
    "    return s\n",
    "lst1 = [1,2,4]\n",
    "sum_cal(*lst1)\n",
    "\n",
    "\n",
    "#返回函数的求和函数\n",
    "def sum_lazy(*args1):\n",
    "    def sum():\n",
    "        s1 = 0\n",
    "        for j in args1:\n",
    "            s1 = s1 + j\n",
    "        return s1\n",
    "    return sum()\n",
    "\n",
    "f1 =sum_lazy(1,2,4)\n",
    "print(f1)\n",
    "#闭包\n",
    "#sum_lazy()中定义了sum(),sum()又引用了局部变量args1,j。\n",
    "\n",
    "# 返回闭包时牢记一点：返回函数不要引用任何循环变量，或者后续会发生变化的变量。\n",
    "\n",
    "# 待补充"
   ]
  },
  {
   "cell_type": "markdown",
   "metadata": {},
   "source": [
    "# 2.匿名函数"
   ]
  },
  {
   "cell_type": "code",
   "execution_count": 21,
   "metadata": {},
   "outputs": [
    {
     "name": "stdout",
     "output_type": "stream",
     "text": [
      "2\n",
      "[1, 3, 5, 7, 9, 11, 13, 15, 17, 19] [1, 3, 5, 7, 9, 11, 13, 15, 17, 19]\n"
     ]
    }
   ],
   "source": [
    "#关键字lambda表示匿名函数\n",
    "x =1\n",
    "f2=lambda x: x +  1\n",
    "print(f2(1))\n",
    "\n",
    "\n",
    "\n",
    "def is_odd(n):\n",
    "    return n % 2 == 1\n",
    "\n",
    "L = list(filter(is_odd, range(1, 20)))\n",
    "#使用lamda函数改进\n",
    "L1 = list(filter(lambda x : x % 2 == 1,range(1,20)))\n",
    "print(L,L1)"
   ]
  },
  {
   "cell_type": "markdown",
   "metadata": {},
   "source": [
    "# 3.偏函数"
   ]
  },
  {
   "cell_type": "code",
   "execution_count": 31,
   "metadata": {},
   "outputs": [
    {
     "data": {
      "text/plain": [
       "33"
      ]
     },
     "execution_count": 31,
     "metadata": {},
     "output_type": "execute_result"
    }
   ],
   "source": [
    "#把函数的某个参数固定住，返回一个新的函数，调用这个函数会更简单\n",
    "\n",
    "import functools  \n",
    "int2 = functools.partial(int,base=2)\n",
    "\n",
    "int2('1111')\n",
    "int2(\"100001\")\n",
    "\n",
    "\n"
   ]
  },
  {
   "cell_type": "code",
   "execution_count": null,
   "metadata": {},
   "outputs": [],
   "source": []
  }
 ],
 "metadata": {
  "kernelspec": {
   "display_name": "Python 3",
   "language": "python",
   "name": "python3"
  },
  "language_info": {
   "codemirror_mode": {
    "name": "ipython",
    "version": 3
   },
   "file_extension": ".py",
   "mimetype": "text/x-python",
   "name": "python",
   "nbconvert_exporter": "python",
   "pygments_lexer": "ipython3",
   "version": "3.6.6"
  }
 },
 "nbformat": 4,
 "nbformat_minor": 2
}
