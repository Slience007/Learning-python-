{
 "cells": [
  {
   "cell_type": "markdown",
   "metadata": {},
   "source": [
    "# 1.动态绑定"
   ]
  },
  {
   "cell_type": "code",
   "execution_count": 19,
   "metadata": {},
   "outputs": [
    {
     "name": "stdout",
     "output_type": "stream",
     "text": [
      "100\n",
      "set_score enter:\n",
      "set_score end\n",
      "900\n"
     ]
    }
   ],
   "source": [
    "class Student(object):\n",
    "    def __init__(self,score):\n",
    "        self.score = score\n",
    "    def get_score(self):\n",
    "        return self.score\n",
    "    \n",
    "s1 = Student(100)\n",
    "print(s1.get_score())\n",
    "\n",
    "#给class动态绑定一个方法\n",
    "def set_score(self,score):\n",
    "    print(\"set_score enter:\")\n",
    "    self.score = score \n",
    "    print(\"set_score end\")\n",
    "Student.set_score = set_score\n",
    "s1.set_score(900)\n",
    "print(s1.get_score())"
   ]
  },
  {
   "cell_type": "markdown",
   "metadata": {},
   "source": [
    "# 2.限制类的属性"
   ]
  },
  {
   "cell_type": "code",
   "execution_count": 28,
   "metadata": {},
   "outputs": [
    {
     "name": "stdout",
     "output_type": "stream",
     "text": [
      "'Student' object has no attribute 'score'\n"
     ]
    }
   ],
   "source": [
    "#限制Student只添加name和age属性\n",
    "\n",
    "#定义一个特殊的__slots__变量，来限制该class实例能添加的属性：\n",
    "\n",
    "class Student(object):\n",
    "    __slots__ =('name','age')\n",
    "    pass\n",
    "s2 = Student()\n",
    "try:\n",
    "    s2.score = 90\n",
    "except Exception as e:\n",
    "    print(e)\n",
    "    \n",
    "#__slots__定义的属性只对当前class有效，对继承的子类不起作用。\n",
    "\n",
    "#除非在子类中也定义__slots__，这样，子类实例允许定义的属性就是自身的__slots__加上父类的__slots__。\n",
    "class Middle_student(Student):\n",
    "    pass\n",
    "s3 = Middle_student()\n",
    "s3.score = 100\n"
   ]
  },
  {
   "cell_type": "markdown",
   "metadata": {},
   "source": [
    "# 3.@property"
   ]
  },
  {
   "cell_type": "code",
   "execution_count": 42,
   "metadata": {},
   "outputs": [
    {
     "name": "stdout",
     "output_type": "stream",
     "text": [
      "set age fail\n"
     ]
    },
    {
     "data": {
      "text/plain": [
       "90"
      ]
     },
     "execution_count": 42,
     "metadata": {},
     "output_type": "execute_result"
    }
   ],
   "source": [
    "#在绑定属性时，如果把属性直接暴露出去，虽然写起来简单，但是没办法检查参数\n",
    "#为此我们定义setter方法来对参数做校验\n",
    "class Student(object):\n",
    "    def __init__(self,name,age):\n",
    "        if age >0 or age<=100:\n",
    "            self.__name = name\n",
    "            self.__age = age\n",
    "        else:\n",
    "            print(\"age must be 0~100\")\n",
    "    def set_age(self,age):\n",
    "        if age <100 and  age >0:\n",
    "            self.__age = age\n",
    "        else:\n",
    "            print(\"set age fail\")\n",
    "    def get_age(self):\n",
    "        return self.__age\n",
    "    \n",
    "s4 = Student(\"John\",90) \n",
    "s4.set_age(1000)\n",
    "s4.get_age()\n",
    "#s上面的调用方法略显复杂，有没有既能检查参数又可以用属性的方式来访问变量呢。\n",
    "#大家就是@property"
   ]
  },
  {
   "cell_type": "code",
   "execution_count": 50,
   "metadata": {},
   "outputs": [
    {
     "name": "stdout",
     "output_type": "stream",
     "text": [
      "90\n",
      "10\n",
      "can't set attribute\n"
     ]
    }
   ],
   "source": [
    "class Student(object):\n",
    "    @property\n",
    "    def score(self):\n",
    "        return self.__score\n",
    "    @score.setter\n",
    "    def score(self,score):\n",
    "        if score<100 and  score >0:\n",
    "            self.__score = score\n",
    "    #只读属性\n",
    "    @property\n",
    "    def age(self):\n",
    "        return 10\n",
    "    \n",
    "s = Student()\n",
    "s.score = 90\n",
    "print(s.score)\n",
    "print(s.age)\n",
    "\n",
    "#age只读，只能读不能设置\n",
    "try:\n",
    "    s.age =88\n",
    "except Exception as e:\n",
    "    print(e)"
   ]
  },
  {
   "cell_type": "code",
   "execution_count": 53,
   "metadata": {},
   "outputs": [
    {
     "name": "stdout",
     "output_type": "stream",
     "text": [
      "50000\n",
      "can't set attribute\n"
     ]
    }
   ],
   "source": [
    "#练习，定义一个screen类，width，height可读写，resolution只读\n",
    "class screen(object):\n",
    "    @property\n",
    "    def height(self):\n",
    "        return self.__height\n",
    "    @height.setter\n",
    "    def height(self,height):\n",
    "        self.__height = height\n",
    "\n",
    "    @property\n",
    "    def width(self):\n",
    "        return self.__width\n",
    "    @width.setter\n",
    "    def width(self,width):\n",
    "        self.__width = width\n",
    "    @property\n",
    "    def resolution(self):\n",
    "        return self.__height * self.__width\n",
    "s = screen()\n",
    "s.width = 100\n",
    "s.height = 500\n",
    "print(s.resolution)\n",
    "\n",
    "try:\n",
    "    s.resolution = 888\n",
    "except Exception as e:\n",
    "    print(e)\n"
   ]
  },
  {
   "cell_type": "markdown",
   "metadata": {},
   "source": [
    "# 4.多重继承"
   ]
  },
  {
   "cell_type": "code",
   "execution_count": 54,
   "metadata": {},
   "outputs": [],
   "source": [
    "#一个子类有多个父类\n",
    "\n",
    "#设计类的时候选择多重继承 而不是多层级的继承\n"
   ]
  },
  {
   "cell_type": "markdown",
   "metadata": {},
   "source": [
    "# 5.定制类"
   ]
  },
  {
   "cell_type": "code",
   "execution_count": 82,
   "metadata": {},
   "outputs": [
    {
     "name": "stdout",
     "output_type": "stream",
     "text": [
      "Student object (name :mark)\n",
      "Student object (name :July)\n",
      "1 1 2 3 5 8 13 21 34 55 89 144 233 377 610 987 1\n",
      "55\n",
      "'Student' object has no attribute 'sex'\n",
      "call myself\n"
     ]
    },
    {
     "data": {
      "text/plain": [
       "True"
      ]
     },
     "execution_count": 82,
     "metadata": {},
     "output_type": "execute_result"
    }
   ],
   "source": [
    "class Student(object):\n",
    "    def __init__(self,name):\n",
    "        self.__name = name\n",
    "    def __str__(self):\n",
    "        return \"Student object (name :%s)\" %self.__name\n",
    "    __repr__  = __str__\n",
    "print(Student(\"mark\"))\n",
    "s = Student(\"July\")\n",
    "print(s)\n",
    "\n",
    "#如果一个类想要被作用于for in循环。就必须要实现一个__iter__()方法\n",
    "#for循环会不断调用该迭代对象的__next__()方法\n",
    "class Fib(object):\n",
    "    def __init__(self):\n",
    "        self.a,self.b = 0,1\n",
    "    def __iter__(self):\n",
    "        return self\n",
    "    def __next__(self):\n",
    "        self.a,self.b = self.b,self.b+self.a\n",
    "        if self.a >1000:\n",
    "            raise StopIteration()\n",
    "        return self.a\n",
    "    #虽然能for循环，但是还是不能当成list，比如取第一个元素\n",
    "    #要想像list那样取元素，必须要实现__getitem__()方法\n",
    "    def __getitem__(self,n):\n",
    "        a,b = 1,1\n",
    "        for x in range(n):\n",
    "            a,b = b,b+a\n",
    "        return a\n",
    "    \n",
    "for i in Fib():\n",
    "    print(i,end=\" \")\n",
    "f = Fib()  \n",
    "print(f[0])\n",
    "print(f[9]) \n",
    "\n",
    "#当访问不存在的属性时，\n",
    "try:\n",
    "    s.sex\n",
    "except Exception as e:\n",
    "    print(e)\n",
    "#要避免这个错误，可以加上加上一个sex,还可以写一个__getattr__方法\n",
    "def __getattr(self,attr):\n",
    "    if attr == \"sex\":\n",
    "        return male\n",
    "#返回函数也是可以的\n",
    "\n",
    "#在实例本身上调用方法\n",
    "\n",
    "class Man(object):\n",
    "    def __init__(self,name):\n",
    "        self.name = name\n",
    "    #定义方法直接对实例进行调用\n",
    "    def __call__(self):\n",
    "        print(\"call myself\")\n",
    "m1 = Man(\"leg\")\n",
    "m1()\n",
    "#callable() 判断一个对象能否被调用\n",
    "\n",
    "callable(max)\n",
    "\n",
    "callable(m1)"
   ]
  },
  {
   "cell_type": "markdown",
   "metadata": {},
   "source": [
    "# 6.枚举类"
   ]
  },
  {
   "cell_type": "code",
   "execution_count": 90,
   "metadata": {},
   "outputs": [
    {
     "name": "stdout",
     "output_type": "stream",
     "text": [
      "Month.Jan\n",
      "Jan ==> Month.Jan , 1\n",
      "Feb ==> Month.Feb , 2\n",
      "Weekday.Mon\n",
      "1\n",
      "Weekday.Tue\n"
     ]
    }
   ],
   "source": [
    "from enum import Enum,unique\n",
    "Month = Enum(\"Month\",(\"Jan\",\"Feb\"))\n",
    "print(Month.Jan)\n",
    "\n",
    "for name,member in Month.__members__.items():\n",
    "    print(name,'==>',member,',',member.value)\n",
    "\n",
    "#Enum派生出自定义类\n",
    "@unique\n",
    "class Weekday(Enum):\n",
    "    Sun = 0\n",
    "    Mon = 1\n",
    "    Tue = 2\n",
    "#访问\n",
    "print(Weekday.Mon)\n",
    "print(Weekday.Mon.value)\n",
    "print(Weekday(2))\n",
    "#既可以用成员名称引用枚举常量，有可以直接根据value的值获取枚举常量\n",
    "\n",
    "#练习\n",
    "class Gender(Enum):\n",
    "    "
   ]
  },
  {
   "cell_type": "markdown",
   "metadata": {},
   "source": [
    "# 7.元类"
   ]
  },
  {
   "cell_type": "code",
   "execution_count": null,
   "metadata": {},
   "outputs": [],
   "source": [
    "#super()\n",
    "#metaclass，比较复杂 后面再补充"
   ]
  }
 ],
 "metadata": {
  "kernelspec": {
   "display_name": "Python 3",
   "language": "python",
   "name": "python3"
  },
  "language_info": {
   "codemirror_mode": {
    "name": "ipython",
    "version": 3
   },
   "file_extension": ".py",
   "mimetype": "text/x-python",
   "name": "python",
   "nbconvert_exporter": "python",
   "pygments_lexer": "ipython3",
   "version": "3.6.6"
  }
 },
 "nbformat": 4,
 "nbformat_minor": 2
}
