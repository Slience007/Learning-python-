{
 "cells": [
  {
   "cell_type": "markdown",
   "metadata": {},
   "source": [
    "# 1.datetime"
   ]
  },
  {
   "cell_type": "code",
   "execution_count": 46,
   "metadata": {},
   "outputs": [
    {
     "name": "stdout",
     "output_type": "stream",
     "text": [
      "2019-01-21 12:21:25\n",
      "1548044485.0\n",
      "2019-01-21 12:21:25\n",
      "2019-01-21 04:21:25\n",
      "ct, 2018-11-23 12:23:33\n",
      "Tue, Jan 22 23:57\n",
      "2019-01-22 23:57:23.362897\n",
      "2019-01-23 23:57:23.362897\n",
      "2019-01-20 23:57:23.362897\n",
      "UTC+08:00\n",
      "2019-01-22 23:57:23.362897+08:00\n",
      "utc time : 2019-01-22 15:57:23.364698+00:00\n",
      "Beijing time: 2019-01-22 23:57:23.364698+08:00\n",
      "tk time: 2019-01-23 00:57:23.364698+09:00\n",
      "2019-01-23 00:57:23.364698+09:00\n",
      "+5\n",
      "2018-11-23 12:23:33+05:00\n"
     ]
    }
   ],
   "source": [
    "from datetime import datetime \n",
    "#用指定时间创建datetime\n",
    "dt1 = datetime(2019,1,21,12,21,25)\n",
    "print(dt1)\n",
    "ts = dt1.timestamp()\n",
    "print(ts)\n",
    "\n",
    "#时间戳转换成当地时间\n",
    "dt2 = datetime.fromtimestamp(ts)\n",
    "print(dt2)\n",
    "#utc时间\n",
    "dt2_utc = datetime.utcfromtimestamp(ts)\n",
    "print(dt2_utc)\n",
    "\n",
    "#字符串转换成时间\n",
    "tstr = \"2018-11-23 12:23:33\"\n",
    "ct = datetime.strptime(tstr,\"%Y-%m-%d %H:%M:%S\")\n",
    "print(\"ct,\",ct)\n",
    "\n",
    "#时间转换成字符串\n",
    "now = datetime.now()\n",
    "ts = now.strftime('%a, %b %d %H:%M')\n",
    "print(ts)\n",
    "\n",
    "#时间运算\n",
    "print(now)\n",
    "from  datetime import datetime,timedelta\n",
    "print(now + timedelta(days=1)) \n",
    "print(now - timedelta(days=2))\n",
    "\n",
    "#本地时间转换程UTC时间\n",
    "from datetime import datetime, timedelta, timezone\n",
    "#创建时区\n",
    "utc_8 = timezone(timedelta(hours=8))\n",
    "print(utc_8)\n",
    "nutc= now.replace(tzinfo=utc_8)\n",
    "print(nutc)\n",
    "\n",
    "#时区转换\n",
    "#拿到utc时间并强制设置utc+0\n",
    "utc_dt = datetime.utcnow().replace(tzinfo=timezone.utc)\n",
    "print(\"utc time :\",utc_dt)\n",
    "\n",
    "bj_dt= utc_dt.astimezone(timezone(timedelta(hours=8)))\n",
    "print(\"Beijing time:\",bj_dt)\n",
    "\n",
    "tk_dt = utc_dt.astimezone(timezone(timedelta(hours=9)))\n",
    "print(\"tk time:\",tk_dt)\n",
    "\n",
    "#把北京时间转换程东京时间\n",
    "tk_dt1 = bj_dt.astimezone(timezone(timedelta(hours=9)))\n",
    "print(tk_dt1)\n",
    "\n",
    "#\n",
    "import re\n",
    "#res = re.split(r'UTC|:',\"UTC+5:00\")\n",
    "#print(res[1])\n",
    "def to_timestamp(dt_str, tz_str):\n",
    "    res = re.split(r'UTC|:',tz_str)\n",
    "    tz = timezone(timedelta(hours=int(res[1])))\n",
    "    dt = datetime.strptime(dt_str,\"%Y-%m-%d %H:%M:%S\")\n",
    "    dt_stamp =dt.replace(tzinfo=tz)\n",
    "    return dt_stamp\n",
    "\n",
    "a= to_timestamp(tstr,\"UTC+5:00\")\n",
    "print(a)\n",
    "    \n",
    "    \n",
    "    "
   ]
  },
  {
   "cell_type": "markdown",
   "metadata": {},
   "source": [
    "# 2.collections"
   ]
  },
  {
   "cell_type": "code",
   "execution_count": 72,
   "metadata": {},
   "outputs": [
    {
     "name": "stdout",
     "output_type": "stream",
     "text": [
      "1\n",
      "圆的的半径： 2\n",
      "deque(['left', 1, 2, 3, 4, 5, 6])\n",
      "deque([1, 2, 3, 4, 5, 6])\n",
      "defaultdict(<function <lambda> at 0x7f0cec5008c8>, {'a': 'a'})\n",
      "key not exists\n",
      "OrderedDict([('a', 1), ('b', 2)])\n"
     ]
    },
    {
     "name": "stderr",
     "output_type": "stream",
     "text": [
      "usage: ipykernel_launcher.py [-h] [-p PORT] [-u DBADMIN]\n",
      "ipykernel_launcher.py: error: unrecognized arguments: -f /run/user/1000/jupyter/kernel-2731ba64-b723-4f23-8d3f-713643cfa1a6.json\n"
     ]
    },
    {
     "ename": "SystemExit",
     "evalue": "2",
     "output_type": "error",
     "traceback": [
      "An exception has occurred, use %tb to see the full traceback.\n",
      "\u001b[0;31mSystemExit\u001b[0m\u001b[0;31m:\u001b[0m 2\n"
     ]
    }
   ],
   "source": [
    "#集合模块\n",
    "from collections import namedtuple\n",
    "Point = namedtuple('Point',['x','y'])\n",
    "p1 =Point(1,2)\n",
    "print(p1.x)\n",
    "\n",
    "Circle = namedtuple(\"Circle\",['x','y','r'])\n",
    "c1 = Circle(0,0,2)\n",
    "print(\"圆的的半径：\",c1.r)\n",
    "\n",
    "#双向列表\n",
    "from collections import deque\n",
    "deque1 = deque([1,2,3,4,5,6])\n",
    "\n",
    "deque1.appendleft(\"left\")\n",
    "print(deque1)\n",
    "\n",
    "deque1.popleft()\n",
    "print(deque1)\n",
    "\n",
    "#defaultdict\n",
    "from collections import defaultdict\n",
    "d1 = defaultdict(lambda:\"key not exists\")\n",
    "d1[\"a\"]=\"a\"\n",
    "print(d1)\n",
    "print(d1[\"b\"])\n",
    "\n",
    "#OrderedDict\n",
    "from collections import OrderedDict\n",
    "od =OrderedDict([(\"a\",1),(\"b\",2)])\n",
    "print(od)\n",
    "\n",
    "#ChainMap\n",
    "#ChainMap可以把一组dict串起来并组成一个逻辑上的dict。ChainMap本身也是一个dict，但是查找的时候，会按照顺序在内部的dict依次查找。\n",
    "from collections import ChainMap\n",
    "import os,argparse\n",
    "defaults = {\n",
    "    \"port\":8000,\n",
    "    \"user\":\"dbadmin\"\n",
    "}\n",
    "#构造命令行参数\n",
    "parser = argparse.ArgumentParser()\n",
    "parser.add_argument('-p', '--port')\n",
    "parser.add_argument('-u', '--dbadmin')\n",
    "namespace = parser.parse_args()\n",
    "#command_line_args = { k: v for k, v in vars(namespace).items() if v }\n",
    "#ChainMap\n",
    "#c = ChainMap(command_line_args,os.environ,defaults)\n",
    "\n",
    "\n",
    "\n",
    "#counter()\n",
    "from collections import Counter\n",
    "c = Counter()\n",
    "for ch in \"hchchxyzchch\":\n",
    "    c[ch] = c[ch] +1\n",
    "print(dict(c))"
   ]
  },
  {
   "cell_type": "code",
   "execution_count": null,
   "metadata": {},
   "outputs": [],
   "source": []
  },
  {
   "cell_type": "code",
   "execution_count": null,
   "metadata": {},
   "outputs": [],
   "source": []
  }
 ],
 "metadata": {
  "kernelspec": {
   "display_name": "Python 3",
   "language": "python",
   "name": "python3"
  },
  "language_info": {
   "codemirror_mode": {
    "name": "ipython",
    "version": 3
   },
   "file_extension": ".py",
   "mimetype": "text/x-python",
   "name": "python",
   "nbconvert_exporter": "python",
   "pygments_lexer": "ipython3",
   "version": "3.6.6"
  }
 },
 "nbformat": 4,
 "nbformat_minor": 2
}
