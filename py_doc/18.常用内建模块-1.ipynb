{
 "cells": [
  {
   "cell_type": "markdown",
   "metadata": {},
   "source": [
    "# 1.datetime"
   ]
  },
  {
   "cell_type": "code",
   "execution_count": 46,
   "metadata": {},
   "outputs": [
    {
     "name": "stdout",
     "output_type": "stream",
     "text": [
      "2019-01-21 12:21:25\n",
      "1548044485.0\n",
      "2019-01-21 12:21:25\n",
      "2019-01-21 04:21:25\n",
      "ct, 2018-11-23 12:23:33\n",
      "Tue, Jan 22 23:57\n",
      "2019-01-22 23:57:23.362897\n",
      "2019-01-23 23:57:23.362897\n",
      "2019-01-20 23:57:23.362897\n",
      "UTC+08:00\n",
      "2019-01-22 23:57:23.362897+08:00\n",
      "utc time : 2019-01-22 15:57:23.364698+00:00\n",
      "Beijing time: 2019-01-22 23:57:23.364698+08:00\n",
      "tk time: 2019-01-23 00:57:23.364698+09:00\n",
      "2019-01-23 00:57:23.364698+09:00\n",
      "+5\n",
      "2018-11-23 12:23:33+05:00\n"
     ]
    }
   ],
   "source": [
    "from datetime import datetime \n",
    "#用指定时间创建datetime\n",
    "dt1 = datetime(2019,1,21,12,21,25)\n",
    "print(dt1)\n",
    "ts = dt1.timestamp()\n",
    "print(ts)\n",
    "\n",
    "#时间戳转换成当地时间\n",
    "dt2 = datetime.fromtimestamp(ts)\n",
    "print(dt2)\n",
    "#utc时间\n",
    "dt2_utc = datetime.utcfromtimestamp(ts)\n",
    "print(dt2_utc)\n",
    "\n",
    "#字符串转换成时间\n",
    "tstr = \"2018-11-23 12:23:33\"\n",
    "ct = datetime.strptime(tstr,\"%Y-%m-%d %H:%M:%S\")\n",
    "print(\"ct,\",ct)\n",
    "\n",
    "#时间转换成字符串\n",
    "now = datetime.now()\n",
    "ts = now.strftime('%a, %b %d %H:%M')\n",
    "print(ts)\n",
    "\n",
    "#时间运算\n",
    "print(now)\n",
    "from  datetime import datetime,timedelta\n",
    "print(now + timedelta(days=1)) \n",
    "print(now - timedelta(days=2))\n",
    "\n",
    "#本地时间转换程UTC时间\n",
    "from datetime import datetime, timedelta, timezone\n",
    "#创建时区\n",
    "utc_8 = timezone(timedelta(hours=8))\n",
    "print(utc_8)\n",
    "nutc= now.replace(tzinfo=utc_8)\n",
    "print(nutc)\n",
    "\n",
    "#时区转换\n",
    "#拿到utc时间并强制设置utc+0\n",
    "utc_dt = datetime.utcnow().replace(tzinfo=timezone.utc)\n",
    "print(\"utc time :\",utc_dt)\n",
    "\n",
    "bj_dt= utc_dt.astimezone(timezone(timedelta(hours=8)))\n",
    "print(\"Beijing time:\",bj_dt)\n",
    "\n",
    "tk_dt = utc_dt.astimezone(timezone(timedelta(hours=9)))\n",
    "print(\"tk time:\",tk_dt)\n",
    "\n",
    "#把北京时间转换程东京时间\n",
    "tk_dt1 = bj_dt.astimezone(timezone(timedelta(hours=9)))\n",
    "print(tk_dt1)\n",
    "\n",
    "#\n",
    "import re\n",
    "#res = re.split(r'UTC|:',\"UTC+5:00\")\n",
    "#print(res[1])\n",
    "def to_timestamp(dt_str, tz_str):\n",
    "    res = re.split(r'UTC|:',tz_str)\n",
    "    tz = timezone(timedelta(hours=int(res[1])))\n",
    "    dt = datetime.strptime(dt_str,\"%Y-%m-%d %H:%M:%S\")\n",
    "    dt_stamp =dt.replace(tzinfo=tz)\n",
    "    return dt_stamp\n",
    "\n",
    "a= to_timestamp(tstr,\"UTC+5:00\")\n",
    "print(a)\n",
    "    \n",
    "    \n",
    "    "
   ]
  },
  {
   "cell_type": "markdown",
   "metadata": {},
   "source": [
    "# 2.collections"
   ]
  },
  {
   "cell_type": "code",
   "execution_count": 73,
   "metadata": {},
   "outputs": [
    {
     "name": "stdout",
     "output_type": "stream",
     "text": [
      "1\n",
      "圆的的半径： 2\n",
      "deque(['left', 1, 2, 3, 4, 5, 6])\n",
      "deque([1, 2, 3, 4, 5, 6])\n",
      "defaultdict(<function <lambda> at 0x7f0cec506ea0>, {'a': 'a'})\n",
      "key not exists\n",
      "OrderedDict([('a', 1), ('b', 2)])\n",
      "{'h': 5, 'c': 4, 'x': 1, 'y': 1, 'z': 1}\n"
     ]
    }
   ],
   "source": [
    "#集合模块\n",
    "from collections import namedtuple\n",
    "Point = namedtuple('Point',['x','y'])\n",
    "p1 =Point(1,2)\n",
    "print(p1.x)\n",
    "\n",
    "Circle = namedtuple(\"Circle\",['x','y','r'])\n",
    "c1 = Circle(0,0,2)\n",
    "print(\"圆的的半径：\",c1.r)\n",
    "\n",
    "#双向列表\n",
    "from collections import deque\n",
    "deque1 = deque([1,2,3,4,5,6])\n",
    "\n",
    "deque1.appendleft(\"left\")\n",
    "print(deque1)\n",
    "\n",
    "deque1.popleft()\n",
    "print(deque1)\n",
    "\n",
    "#defaultdict\n",
    "from collections import defaultdict\n",
    "d1 = defaultdict(lambda:\"key not exists\")\n",
    "d1[\"a\"]=\"a\"\n",
    "print(d1)\n",
    "print(d1[\"b\"])\n",
    "\n",
    "#OrderedDict\n",
    "from collections import OrderedDict\n",
    "od =OrderedDict([(\"a\",1),(\"b\",2)])\n",
    "print(od)\n",
    "\n",
    "#ChainMap\n",
    "#ChainMap可以把一组dict串起来并组成一个逻辑上的dict。ChainMap本身也是一个dict，但是查找的时候，会按照顺序在内部的dict依次查找。\n",
    "from collections import ChainMap\n",
    "import os,argparse\n",
    "defaults = {\n",
    "    \"port\":8000,\n",
    "    \"user\":\"dbadmin\"\n",
    "}\n",
    "#构造命令行参数\n",
    "#parser = argparse.ArgumentParser()\n",
    "#parser.add_argument('-p', '--port')\n",
    "#parser.add_argument('-u', '--dbadmin')\n",
    "#namespace = parser.parse_args()\n",
    "#command_line_args = { k: v for k, v in vars(namespace).items() if v }\n",
    "#ChainMap\n",
    "#c = ChainMap(command_line_args,os.environ,defaults)\n",
    "\n",
    "\n",
    "\n",
    "#counter()\n",
    "from collections import Counter\n",
    "c = Counter()\n",
    "for ch in \"hchchxyzchch\":\n",
    "    c[ch] = c[ch] +1\n",
    "print(dict(c))"
   ]
  },
  {
   "cell_type": "markdown",
   "metadata": {},
   "source": [
    "# 3.xml"
   ]
  },
  {
   "cell_type": "code",
   "execution_count": 91,
   "metadata": {},
   "outputs": [
    {
     "name": "stdout",
     "output_type": "stream",
     "text": [
      "start_element:note,sttrs:{}\n",
      "char txt:\n",
      "\n",
      "start_element:to,sttrs:{}\n",
      "char txt:George\n",
      "end element:to\n",
      "char txt:\n",
      "\n",
      "start_element:from,sttrs:{}\n",
      "char txt:John\n",
      "end element:from\n",
      "char txt:\n",
      "\n",
      "start_element:heading,sttrs:{}\n",
      "char txt:Reminder\n",
      "end element:heading\n",
      "char txt:\n",
      "\n",
      "start_element:body,sttrs:{}\n",
      "char txt:Don't forget the meeting!\n",
      "end element:body\n",
      "char txt:\n",
      "\n",
      "end element:note\n",
      "['<?xml version=\"1.0\" ?>', '<ol>', 'python', '</ol>']\n",
      "<?xml version=\"1.0\" ?><ol>python</ol>\n"
     ]
    }
   ],
   "source": [
    "from xml.parsers.expat import ParserCreate\n",
    "class default_parser(object):\n",
    "    def start_element(self,name,attrs):\n",
    "        print(\"start_element:%s,sttrs:%s\" %(name,str(attrs)))\n",
    "    def char_element(self,text):\n",
    "        print(\"char txt:%s\" %text)\n",
    "    def end_element(self,name):\n",
    "        print(\"end element:%s\" %name)\n",
    "handler = default_parser()\n",
    "parser = ParserCreate()\n",
    "xml = r'''<?xml version=\"1.0\" encoding=\"ISO-8859-1\"?>\n",
    "<note>\n",
    "<to>George</to>\n",
    "<from>John</from>\n",
    "<heading>Reminder</heading>\n",
    "<body>Don't forget the meeting!</body>\n",
    "</note>\n",
    "'''\n",
    "parser.StartElementHandler =handler.start_element\n",
    "parser.EndElementHandler = handler.end_element\n",
    "parser.CharacterDataHandler = handler.char_element\n",
    "parser.Parse(xml)\n",
    "\n",
    "\n",
    "\n",
    "lst = []\n",
    "lst.append(r'<?xml version=\"1.0\" ?>')\n",
    "lst.append(r'<ol>')\n",
    "lst.append(r'python')\n",
    "lst.append(r'</ol>')\n",
    "print(lst)\n",
    "print(''.join(lst))"
   ]
  },
  {
   "cell_type": "markdown",
   "metadata": {},
   "source": [
    "# 4.haslib"
   ]
  },
  {
   "cell_type": "code",
   "execution_count": 98,
   "metadata": {},
   "outputs": [
    {
     "name": "stdout",
     "output_type": "stream",
     "text": [
      "6ac0d1c0f51343506e20d118e882fa3e\n",
      "d41a944258143cff29062e47fc841ef0\n",
      "68692f30828d283852dbdc383f575771e7655dd0\n"
     ]
    }
   ],
   "source": [
    "#摘要算法\n",
    "#什么是摘要算法呢？摘要算法又称哈希算法、散列算法。它通过一个函数，把任意长度的数据转换为一个长度固定的数据串（通常用16进制的字符串表示）。\n",
    "import hashlib\n",
    "md5 = hashlib.md5()\n",
    "md5.update(\"I love china\".encode(\"utf-8\"))\n",
    "print(md5.hexdigest())\n",
    "\n",
    "md51 = hashlib.md5()\n",
    "md51.update(\"I love China\".encode(\"utf-8\"))\n",
    "print(md51.hexdigest())\n",
    "\n",
    "sh1 = hashlib.sha1()\n",
    "sh1.update(\"I love china\".encode(\"utf-8\"))\n",
    "print(sh1.hexdigest())"
   ]
  },
  {
   "cell_type": "code",
   "execution_count": 121,
   "metadata": {},
   "outputs": [
    {
     "data": {
      "text/plain": [
       "'user4 is not exists'"
      ]
     },
     "execution_count": 121,
     "metadata": {},
     "output_type": "execute_result"
    }
   ],
   "source": [
    "#练习\n",
    "import hashlib\n",
    "def calc_md5(pwd):\n",
    "    md5 = hashlib.md5()\n",
    "    md5.update(pwd.encode(\"utf-8\"))\n",
    "    md5_pwd = md5.hexdigest()\n",
    "    return md5_pwd\n",
    "\n",
    "#print(calc_md5(\"Huawei@1234\"))\n",
    "db = {\n",
    "    \"user1\":\"197bc9f7ae368b5016cf80f44993ac10\",\n",
    "    \"user2\":\"7aeb08a68a9b9089d1bd1b195ed7d470\"\n",
    "}\n",
    "\n",
    "def login(user,pwd):\n",
    "    #判断用户是否存在\n",
    "    if user in db:\n",
    "        user_pwd = calc_md5(pwd)\n",
    "        store_pwd= db[user]\n",
    "        #如果加密后的密码相同则认证通过\n",
    "        if user_pwd == store_pwd:\n",
    "            print(\"login sucess.\")\n",
    "        else:\n",
    "            print(\"401,login fail\")\n",
    "    else:\n",
    "        return \"%s is not exists\" %user\n",
    "user1=(\"user4\",\"Huawei@123$\")\n",
    "login(*user1)"
   ]
  },
  {
   "cell_type": "markdown",
   "metadata": {},
   "source": [
    "# 5.hmac"
   ]
  },
  {
   "cell_type": "code",
   "execution_count": 129,
   "metadata": {},
   "outputs": [
    {
     "name": "stdout",
     "output_type": "stream",
     "text": [
      "1fe4d05cdbd6df8f3c17de4f44c14549\n",
      "b'hello'\n"
     ]
    }
   ],
   "source": [
    "import hmac\n",
    "msg = b\"Huawei@123\"\n",
    "key = b\"!@#$%^\"\n",
    "hmac1 = hmac.new(key,msg,digestmod=\"MD5\")\n",
    "print(hmac1.hexdigest())"
   ]
  },
  {
   "cell_type": "code",
   "execution_count": 168,
   "metadata": {},
   "outputs": [
    {
     "name": "stdout",
     "output_type": "stream",
     "text": [
      "user1,auth fail...\n"
     ]
    }
   ],
   "source": [
    "#login v2.0\n",
    "import hmac\n",
    "def hmac_md5(key,s):\n",
    "    return hmac.new(key.encode(\"utf-8\"),s.encode(\"utf-8\"),\"MD5\").hexdigest()\n",
    "#print(hmac_md5(\"qq\",'hUAQWW'))\n",
    "key = \"Huawei\"\n",
    "class User(object):\n",
    "    def __init__(self,name,pwd):\n",
    "        self.name = name\n",
    "        self.key = key\n",
    "        self.pwd = hmac_md5(self.key,pwd)\n",
    "    def get_pwd(self):\n",
    "        return self.pwd\n",
    "db = {\n",
    "    \"user1\":User(\"user1\",\"Huawei@123\"),\n",
    "    \"user2\":User(\"user2\",\"Huawei@1234\")\n",
    "}\n",
    "def login(user,pwd):\n",
    "    #判断用户是否存在\n",
    "    if user in db:\n",
    "        input_pwd = hmac_md5(key,pwd)\n",
    "        store_pwd= db[user].get_pwd()\n",
    "        #如果加密后的密码相同则认证通过\n",
    "        if input_pwd == store_pwd:\n",
    "            print(\"%s sign in sucess...\" %user)\n",
    "        else:\n",
    "            print(\"%s,auth fail...\" %user)\n",
    "    else:\n",
    "        return \"%s has not sign up...\" %user\n",
    "login(\"user1\",\"Huawei@123#\")"
   ]
  },
  {
   "cell_type": "markdown",
   "metadata": {},
   "source": [
    "# 6.itertools"
   ]
  },
  {
   "cell_type": "code",
   "execution_count": 194,
   "metadata": {},
   "outputs": [
    {
     "name": "stdout",
     "output_type": "stream",
     "text": [
      "xyz\n",
      "xyz\n",
      "xyz\n",
      "[1, 3, 5, 7, 9, 11, 13, 15, 17, 19]\n",
      "['x', 'y', 'z', 'a', 'b', 'c']\n",
      "1 ['1', '1']\n",
      "2 ['2', '2']\n",
      "3 ['3', '3']\n",
      "x ['x', 'x', 'x']\n"
     ]
    }
   ],
   "source": [
    "#itertools提供了用于操作迭代对象的函数\n",
    "import itertools\n",
    "natuals = itertools.count(1,2)\n",
    "#for i in natuals:\n",
    "    #print(i)\n",
    "   # pass\n",
    "#count()创建的是无限的迭代器\n",
    "\n",
    "cs =itertools.cycle(\"xyz\")\n",
    "\n",
    "ns = itertools.repeat(\"xyz\",3)\n",
    "for k in ns:\n",
    "    print(k)\n",
    "\n",
    "#无限序列虽然可以无限循环下去，但是我们通常会通过takewhile等函数截取一个有限的序列。\n",
    "nums = itertools.takewhile(lambda x :x<20,natuals)\n",
    "print(list(nums))\n",
    "\n",
    "#chain()可以把一组迭代对象串联起来，形成一个更大的迭代器：\n",
    "cc = itertools.chain(\"xyz\",\"abc\")\n",
    "print(list(cc))\n",
    "\n",
    "#groupby会把相同的元素挑出来放在一起\n",
    "for k,v in itertools.groupby(\"112233xxx\"):\n",
    "    print(k,list(v))"
   ]
  },
  {
   "cell_type": "code",
   "execution_count": 82,
   "metadata": {},
   "outputs": [
    {
     "data": {
      "text/plain": [
       "3.1415925535897915"
      ]
     },
     "execution_count": 82,
     "metadata": {},
     "output_type": "execute_result"
    }
   ],
   "source": [
    "#计算圆周率\n",
    "#step1：取奇数列\n",
    "#step2：取前N项\n",
    "#step3:添加正负号，4除以并求和\n",
    "import itertools\n",
    "from functools import reduce\n",
    "def pi(N):\n",
    "    n = itertools.count(1,2)\n",
    "    ns = itertools.takewhile(lambda x:x<=2*N-1 ,n)\n",
    "    cf = itertools.cycle([4,-4])\n",
    "    mapns = map(lambda x:next(cf) / x , ns)\n",
    "    sums = reduce(lambda x, y:x+y,mapns)\n",
    "    return sums\n",
    "    \n",
    "    \n",
    "pi(10000000)\n",
    "\n"
   ]
  },
  {
   "cell_type": "code",
   "execution_count": null,
   "metadata": {},
   "outputs": [],
   "source": []
  },
  {
   "cell_type": "code",
   "execution_count": null,
   "metadata": {},
   "outputs": [],
   "source": []
  },
  {
   "cell_type": "code",
   "execution_count": null,
   "metadata": {},
   "outputs": [],
   "source": []
  },
  {
   "cell_type": "code",
   "execution_count": null,
   "metadata": {},
   "outputs": [],
   "source": []
  },
  {
   "cell_type": "code",
   "execution_count": null,
   "metadata": {},
   "outputs": [],
   "source": []
  }
 ],
 "metadata": {
  "kernelspec": {
   "display_name": "Python 3",
   "language": "python",
   "name": "python3"
  },
  "language_info": {
   "codemirror_mode": {
    "name": "ipython",
    "version": 3
   },
   "file_extension": ".py",
   "mimetype": "text/x-python",
   "name": "python",
   "nbconvert_exporter": "python",
   "pygments_lexer": "ipython3",
   "version": "3.6.6"
  }
 },
 "nbformat": 4,
 "nbformat_minor": 2
}
