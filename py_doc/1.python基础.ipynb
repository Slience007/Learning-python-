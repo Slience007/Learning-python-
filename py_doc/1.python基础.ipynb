{
 "cells": [
  {
   "cell_type": "markdown",
   "metadata": {},
   "source": [
    "# 1.写在前面\n",
    ">  1.1 采用缩进   \n",
    "1.2 #表示注释   \n",
    "1.3 大小写敏感"
   ]
  },
  {
   "cell_type": "markdown",
   "metadata": {},
   "source": [
    "# 2.基础数据类型\n",
    "## 2.1数"
   ]
  },
  {
   "cell_type": "code",
   "execution_count": 6,
   "metadata": {},
   "outputs": [
    {
     "name": "stdout",
     "output_type": "stream",
     "text": [
      "10\n",
      "1.2333\n"
     ]
    }
   ],
   "source": [
    "#整数\n",
    "print(10)\n",
    "#浮点数\n",
    "print(1.2333)\n",
    "#整数的运算永远是精确的，浮点数可能存在误差"
   ]
  },
  {
   "cell_type": "markdown",
   "metadata": {},
   "source": [
    "## 2.2字符串\n",
    "> ''或\"\"包裹起来的任何文本"
   ]
  },
  {
   "cell_type": "code",
   "execution_count": 13,
   "metadata": {},
   "outputs": [
    {
     "name": "stdout",
     "output_type": "stream",
     "text": [
      "Hello !\n",
      "Hello\"\n",
      "Hi,\n",
      " Bob\n",
      "\\\"\\\\\\\"\n"
     ]
    }
   ],
   "source": [
    "print(\"Hello !\")\n",
    "#如果字符串中包含”，则需\\转义\n",
    "print(\"Hello\\\"\")\n",
    "#\\n表示换行\n",
    "print(\"Hi,\\n Bob\")\n",
    "#如果字符串中需要转义的地方很多，就需要写很多的\\,比较麻烦 。r''表示''中的字符串不转义\n",
    "print(r'\\\"\\\\\\\"')"
   ]
  },
  {
   "cell_type": "markdown",
   "metadata": {},
   "source": [
    "## 3.布尔值"
   ]
  },
  {
   "cell_type": "code",
   "execution_count": 16,
   "metadata": {},
   "outputs": [
    {
     "data": {
      "text/plain": [
       "False"
      ]
     },
     "execution_count": 16,
     "metadata": {},
     "output_type": "execute_result"
    }
   ],
   "source": [
    "True\n",
    "False\n",
    "#注意大小写\n",
    "#运算and or not\n",
    "True and False\n"
   ]
  },
  {
   "cell_type": "markdown",
   "metadata": {},
   "source": [
    "## 4.空值   \n",
    "None"
   ]
  },
  {
   "cell_type": "markdown",
   "metadata": {},
   "source": [
    "## 5.变量\n",
    "> 变量名称：大小写，数字和_组成，且不能以数字开头。   \n",
    "动态语言，声明时不必指定变量类型。  \n",
    "常量，一般用大写的变量名称表示。"
   ]
  },
  {
   "cell_type": "code",
   "execution_count": 18,
   "metadata": {},
   "outputs": [
    {
     "name": "stdout",
     "output_type": "stream",
     "text": [
      "3.3333333333333335\n",
      "3\n"
     ]
    }
   ],
   "source": [
    "#除法,结果是浮点数\n",
    "print(10/3)\n",
    "#地板除，结果是整数\n",
    "print(10//3)"
   ]
  },
  {
   "cell_type": "code",
   "execution_count": 21,
   "metadata": {},
   "outputs": [
    {
     "name": "stdout",
     "output_type": "stream",
     "text": [
      "x:10,y:10\n",
      "x:10,y:11\n"
     ]
    }
   ],
   "source": [
    "#赋值讨论\n",
    "y =10\n",
    "x = y\n",
    "print(\"x:%s,y:%s\" %(x,y))\n",
    "y=11\n",
    "print(\"x:%s,y:%s\" %(x,y))\n",
    "#x=10,y=11\n"
   ]
  },
  {
   "cell_type": "markdown",
   "metadata": {},
   "source": [
    "## 6.字符串与编码"
   ]
  },
  {
   "cell_type": "code",
   "execution_count": 22,
   "metadata": {},
   "outputs": [
    {
     "name": "stdout",
     "output_type": "stream",
     "text": [
      "b'abc'\n"
     ]
    }
   ],
   "source": [
    "#str在网络传输或写入磁盘时，需要把str变成以字节为单位的bytes\n",
    "a=b\"abc\"\n",
    "print(a)\n"
   ]
  },
  {
   "cell_type": "code",
   "execution_count": 25,
   "metadata": {},
   "outputs": [
    {
     "name": "stdout",
     "output_type": "stream",
     "text": [
      "b'\\xe6\\x88\\x91\\xe7\\x88\\xb1\\xe4\\xbd\\xa0\\xef\\xbc\\x8c\\xe4\\xb8\\xad\\xe5\\x9b\\xbd'\n",
      "我爱你，中国\n"
     ]
    }
   ],
   "source": [
    "#str的decode的方法可以编码成指定格式的bytes\n",
    "str1 = \"我爱你，中国\"\n",
    "bb = str1.encode(\"utf-8\")\n",
    "print(bb)\n",
    "cc = bb.decode(\"utf-8\")\n",
    "print(cc)"
   ]
  },
  {
   "cell_type": "markdown",
   "metadata": {},
   "source": [
    "> 为了保证不乱码，始终以utf-8编码解码   \n",
    "文件指定以utf-8编码   \n"
   ]
  },
  {
   "cell_type": "code",
   "execution_count": 26,
   "metadata": {},
   "outputs": [
    {
     "name": "stdout",
     "output_type": "stream",
     "text": [
      "My name is Bob\n"
     ]
    }
   ],
   "source": [
    "#coding：utf-8\n",
    "#格式化\n",
    "name = \"Bob\"\n",
    "print(\"My name is %s\"  %name)\n"
   ]
  },
  {
   "cell_type": "markdown",
   "metadata": {},
   "source": [
    "> 占位符   \n",
    "%s  字符串   \n",
    "%d  数字   \n",
    "%f  浮点数   \n",
    "%x 十六进制整数   \n"
   ]
  },
  {
   "cell_type": "code",
   "execution_count": 50,
   "metadata": {},
   "outputs": [
    {
     "name": "stdout",
     "output_type": "stream",
     "text": [
      "num:0001\n",
      " 3-01\n",
      "float is: 3.444\n",
      "Hello,XIAOMNG your score is 99.9\n"
     ]
    }
   ],
   "source": [
    "num1 =1\n",
    "print (\"num:%04d\" %num1) \n",
    "print('%2d-%02d' % (3, 1))\n",
    "print(\"float is: %.3f\"  %3.44444)\n",
    "#format()\n",
    "str2 = 'Hello,{} your score is {:.1f}'.format('XIAOMNG',99.8777)\n",
    "print(str2)\n"
   ]
  },
  {
   "cell_type": "code",
   "execution_count": null,
   "metadata": {},
   "outputs": [],
   "source": []
  },
  {
   "cell_type": "code",
   "execution_count": null,
   "metadata": {},
   "outputs": [],
   "source": []
  }
 ],
 "metadata": {
  "kernelspec": {
   "display_name": "Python 3",
   "language": "python",
   "name": "python3"
  },
  "language_info": {
   "codemirror_mode": {
    "name": "ipython",
    "version": 3
   },
   "file_extension": ".py",
   "mimetype": "text/x-python",
   "name": "python",
   "nbconvert_exporter": "python",
   "pygments_lexer": "ipython3",
   "version": "3.6.6"
  }
 },
 "nbformat": 4,
 "nbformat_minor": 2
}
