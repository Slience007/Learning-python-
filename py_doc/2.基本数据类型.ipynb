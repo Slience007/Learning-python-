{
 "cells": [
  {
   "cell_type": "markdown",
   "metadata": {},
   "source": [
    "## 1.list"
   ]
  },
  {
   "cell_type": "code",
   "execution_count": 12,
   "metadata": {},
   "outputs": [
    {
     "name": "stdout",
     "output_type": "stream",
     "text": [
      "[1, 3, True, 'hello']\n",
      "[]\n",
      "[1, 3, True, 'hello', 'end']\n"
     ]
    },
    {
     "data": {
      "text/plain": [
       "1"
      ]
     },
     "execution_count": 12,
     "metadata": {},
     "output_type": "execute_result"
    }
   ],
   "source": [
    "#定义list\n",
    "lst1 = [1,3,True,\"hello\"]\n",
    "print(lst1)\n",
    "#空list\n",
    "lst2 = []\n",
    "print(lst2)\n",
    "#长度\n",
    "len(lst1)\n",
    "#追加元素到末尾\n",
    "lst1.append(\"end\")\n",
    "print(lst1)\n",
    "#插入元素到固定未知\n",
    "lst1.insert(0,0)\n",
    "\n",
    "#访问元素\n",
    "lst1[0]\n",
    "\n",
    "#修改固定元素的值\n",
    "lst1[0]=\"begin\"\n",
    "\n",
    "#删除末尾的元素\n",
    "lst1.pop()\n",
    "#删除固定的元素\n",
    "lst1.pop(1)"
   ]
  },
  {
   "cell_type": "markdown",
   "metadata": {},
   "source": [
    "## 2.tuple"
   ]
  },
  {
   "cell_type": "code",
   "execution_count": null,
   "metadata": {},
   "outputs": [],
   "source": [
    "#定义元组\n",
    "t1 =(1,3,True,\"hi\")\n",
    "#固定不可变 无update delete方法\n",
    "t2 = (1,)\n",
    "\n",
    "#长度\n",
    "len(t2)\n",
    "#访问值\n",
    "t1[0]\n"
   ]
  },
  {
   "cell_type": "markdown",
   "metadata": {},
   "source": [
    "## 3.条件判断"
   ]
  },
  {
   "cell_type": "code",
   "execution_count": 16,
   "metadata": {},
   "outputs": [
    {
     "name": "stdout",
     "output_type": "stream",
     "text": [
      "hi\n"
     ]
    }
   ],
   "source": [
    "#if\n",
    "if True:\n",
    "    print(\"hi\")\n",
    "else:\n",
    "    print(\"wow\")"
   ]
  },
  {
   "cell_type": "code",
   "execution_count": 17,
   "metadata": {},
   "outputs": [
    {
     "name": "stdout",
     "output_type": "stream",
     "text": [
      "0\n",
      "1\n",
      "2\n",
      "3\n"
     ]
    }
   ],
   "source": [
    "#for\n",
    "for i in range(4):\n",
    "    print(i)"
   ]
  },
  {
   "cell_type": "code",
   "execution_count": 18,
   "metadata": {},
   "outputs": [
    {
     "name": "stdout",
     "output_type": "stream",
     "text": [
      "----\n",
      "----\n",
      "----\n"
     ]
    }
   ],
   "source": [
    "#while\n",
    "i=0\n",
    "while i<3:\n",
    "    print(\"----\")\n",
    "    i=i+1"
   ]
  },
  {
   "cell_type": "code",
   "execution_count": 19,
   "metadata": {},
   "outputs": [
    {
     "name": "stdout",
     "output_type": "stream",
     "text": [
      "please input a num:12\n",
      "<class 'str'>\n"
     ]
    }
   ],
   "source": [
    "#input\n",
    "num1 = input(\"please input a num:\")\n",
    "print(type(num1))"
   ]
  },
  {
   "cell_type": "code",
   "execution_count": 21,
   "metadata": {},
   "outputs": [
    {
     "name": "stdout",
     "output_type": "stream",
     "text": [
      "0\n",
      "1\n",
      "2\n",
      "break----\n"
     ]
    }
   ],
   "source": [
    "#break 提前退出循环\n",
    "\n",
    "#continue 退出本次循环 直接开始下一轮循环\n",
    "\n",
    "for i in range(4):\n",
    "    print(i)\n",
    "    if i ==2:\n",
    "        print(\"break----\")\n",
    "        break\n",
    "        "
   ]
  },
  {
   "cell_type": "code",
   "execution_count": 25,
   "metadata": {},
   "outputs": [
    {
     "name": "stdout",
     "output_type": "stream",
     "text": [
      "0\n",
      "1\n",
      "2\n",
      "continue----\n",
      "3\n"
     ]
    }
   ],
   "source": [
    "for i in range(4):\n",
    "    print(i)\n",
    "    if i ==2:\n",
    "        print(\"continue----\")\n",
    "        continue\n",
    "        #不会被执行\n",
    "        print(\"after continue\")\n",
    "        \n",
    "        "
   ]
  },
  {
   "cell_type": "code",
   "execution_count": null,
   "metadata": {},
   "outputs": [],
   "source": []
  }
 ],
 "metadata": {
  "kernelspec": {
   "display_name": "Python 3",
   "language": "python",
   "name": "python3"
  },
  "language_info": {
   "codemirror_mode": {
    "name": "ipython",
    "version": 3
   },
   "file_extension": ".py",
   "mimetype": "text/x-python",
   "name": "python",
   "nbconvert_exporter": "python",
   "pygments_lexer": "ipython3",
   "version": "3.6.6"
  }
 },
 "nbformat": 4,
 "nbformat_minor": 2
}
