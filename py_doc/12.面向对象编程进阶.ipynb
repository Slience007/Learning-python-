{
 "cells": [
  {
   "cell_type": "markdown",
   "metadata": {},
   "source": [
    "# 1.继承和多态"
   ]
  },
  {
   "cell_type": "code",
   "execution_count": 9,
   "metadata": {},
   "outputs": [
    {
     "name": "stdout",
     "output_type": "stream",
     "text": [
      "Animal is running...\n",
      "Animal is running...\n",
      "------------------\n"
     ]
    }
   ],
   "source": [
    "# 定义一个类时，可以从现有的类继承，新的类成为子类 ，被继承的类成为父类或超类。\n",
    "# 继承的好处，子类可以获得父类的所以方法。\n",
    "class Animal(object):\n",
    "    def run(self):\n",
    "        print(\"Animal is running...\")\n",
    "#定义一个Dog类，继承于Animal\n",
    "class Dog(Animal):\n",
    "    pass\n",
    "#定义一个Cat类，继承于Animal\n",
    "class Cat(Animal):\n",
    "    pass\n",
    "dog = Dog()\n",
    "dog.run()\n",
    "\n",
    "cat = Cat()\n",
    "cat.run()\n",
    "print(\"------------------\")\n",
    "\n",
    "#Dog Cat实例调用run()方法时返回的都是Animal is running,更符合逻辑的是返回：Cat/Dog is runing"
   ]
  },
  {
   "cell_type": "code",
   "execution_count": 27,
   "metadata": {},
   "outputs": [
    {
     "name": "stdout",
     "output_type": "stream",
     "text": [
      "Cat is running\n",
      "Dog is running\n",
      "True\n",
      "True\n",
      "Dog is running\n",
      "Dog is running\n",
      "Cat is running\n",
      "Cat is running\n",
      "Animal is running\n",
      "Animal is running\n",
      "Fish is running.\n",
      "Fish is running.\n",
      "Car is  running\n",
      "Car is  running\n"
     ]
    }
   ],
   "source": [
    "class Animal(object):\n",
    "    def run(self):\n",
    "        print(\"Animal is running\")\n",
    "class Dog(Animal):\n",
    "    def run(self):\n",
    "        print(\"Dog is running\")\n",
    "class Cat(Animal):\n",
    "    def run(self):\n",
    "        print(\"Cat is running\")\n",
    "cat = Cat()\n",
    "cat.run()\n",
    "\n",
    "dog = Dog()\n",
    "dog.run()\n",
    "#当子类和父类存在相同的方法run(),子类的方法会覆盖父类的方法。\n",
    "\n",
    "print(isinstance(dog,Dog))\n",
    "print(isinstance(dog,Animal))\n",
    "\n",
    "def run_twice(animal):\n",
    "    animal.run()\n",
    "    animal.run()\n",
    "\n",
    "run_twice(dog)\n",
    "run_twice(cat)\n",
    "run_twice(Animal())\n",
    "#新增一个子类时，无需对run_twice()做任何修改\n",
    "\n",
    "class Fish(Animal):\n",
    "    def run(self):\n",
    "        print(\"Fish is running.\")\n",
    "run_twice(Fish())\n",
    "\n",
    "#多态的好处就是，当我们需要传入Dog、Cat、Tortoise……时，我们只需要接收Animal类型就可以了，\n",
    "#因为Dog、Cat、Tortoise……都是Animal类型，然后，按照Animal类型进行操作即可。由于Animal类型有run()方法，因此，传入的任意类型，\n",
    "#只要是Animal类或者子类，就会自动调用实际类型的run()方法，这就是多态的意思：\n",
    "#对于一个变量，我们只需要知道它是Animal类型，无需确切地知道它的子类型，就可以放心地调用run()方法，\n",
    "#而具体调用的run()方法是作用在Animal、Dog、Cat还是Tortoise对象上，由运行时该对象的确切类型决定，这就是多态真正的威力：\n",
    "#调用方只管调用，不管细节，而当我们新增一种Animal的子类时，只要确保run()方法编写正确，不用管原来的代码是如何调用的。\n",
    "#这就是著名的“开闭”原则：\n",
    "##对修改封闭：不需要修改依赖Animal类型的run_twice()等函数。\n",
    "#对开展封闭：允许新增Animal子类。\n",
    "\n",
    "\n",
    "#鸭子类型\n",
    "#静态语言：如果需要传入Animal类型，则必须传入Animal或Animal的子类，否则无法调用run()方法\n",
    "#动态语言：不一定要传入Animal类型，传入的对象有run()方法即可。\n",
    "\n",
    "class Car(object):\n",
    "    def run(self):\n",
    "        print(\"Car is  running\")\n",
    "run_twice(Car())"
   ]
  },
  {
   "cell_type": "code",
   "execution_count": 28,
   "metadata": {},
   "outputs": [],
   "source": [
    "#一个对象看起来像鸭子，走起来路像鸭子，即可被看错是鸭子。\n"
   ]
  },
  {
   "cell_type": "markdown",
   "metadata": {},
   "source": [
    "# 2.获取对象类型"
   ]
  },
  {
   "cell_type": "code",
   "execution_count": 43,
   "metadata": {},
   "outputs": [
    {
     "name": "stdout",
     "output_type": "stream",
     "text": [
      "<class 'str'>\n",
      "<class '__main__.Dog'>\n",
      "<class 'builtin_function_or_method'>\n",
      "True\n",
      "True\n",
      "True\n",
      "False\n",
      "True\n"
     ]
    }
   ],
   "source": [
    "#当我们拿到一个对象时，如何知道类型及方法呢？\n",
    "#使用type\n",
    "class Animal(object):\n",
    "    def run(self):\n",
    "        pass\n",
    "class Dog(Animal):\n",
    "    pass\n",
    "print(type('123'))\n",
    "print(type(Dog()))\n",
    "#判断一个对象是否是函数\n",
    "import types\n",
    "print(type(abs))\n",
    "print(type(abs)==types.BuiltinFunctionType)\n",
    "\n",
    "#判断对象的继承关系\n",
    "print(isinstance(Dog(),Dog))\n",
    "print(isinstance(Dog(),Animal))\n",
    "\n",
    "\n",
    "#判断对象是否有方法或属性\n",
    "print(hasattr(Dog(),\"name\"))\n",
    "#有方法run()吗？\n",
    "print(hasattr(Dog(),\"run\"))\n",
    "\n",
    "#setattr\n",
    "\n",
    "#getattr"
   ]
  },
  {
   "cell_type": "markdown",
   "metadata": {},
   "source": [
    "# 3.类属性和实例属性"
   ]
  },
  {
   "cell_type": "code",
   "execution_count": 54,
   "metadata": {},
   "outputs": [
    {
     "name": "stdout",
     "output_type": "stream",
     "text": [
      "zs\n",
      "zs\n",
      "zss\n",
      "zs\n",
      "zs\n"
     ]
    }
   ],
   "source": [
    "#给实例绑定属性，是通过实例变量或者self\n",
    "#给类绑定属性，直接在class中定义\n",
    "class Student(object):\n",
    "    #类属性\n",
    "    name = \"zs\"\n",
    "s = Student()\n",
    "#访问实例属性\n",
    "print(s.name)\n",
    "#访问类属性\n",
    "print(Student.name)\n",
    "\n",
    "s.name = \"zss\"\n",
    "print(s.name)\n",
    "print(Student.name)\n",
    "\n",
    "del s.name\n",
    "print(s.name)\n",
    "#对类属性和实例属性 不要使用相同的名称，相同的名称的实例属性会屏蔽掉类属性。\n",
    "#但是当删除实例属性后，访问到的类属性\n",
    "\n"
   ]
  },
  {
   "cell_type": "code",
   "execution_count": 61,
   "metadata": {},
   "outputs": [
    {
     "name": "stdout",
     "output_type": "stream",
     "text": [
      "Test sucess\n"
     ]
    }
   ],
   "source": [
    "#每创建一个实例 conunt+1 统计学生人数\n",
    "\n",
    "class Student(object):\n",
    "    count =0\n",
    "    def __init__(self,name):\n",
    "        self.__name = name\n",
    "        Student.count += 1\n",
    "s1 = Student(\"Bob\")\n",
    "count = Student.count\n",
    "if (count != 1):\n",
    "    print(\"Test fail\")\n",
    "else:\n",
    "    s2 = Student(\"yy\")\n",
    "    if (Student.count==2):\n",
    "        print(\"Test sucess\")\n",
    "\n",
    "        "
   ]
  },
  {
   "cell_type": "code",
   "execution_count": null,
   "metadata": {},
   "outputs": [],
   "source": []
  }
 ],
 "metadata": {
  "kernelspec": {
   "display_name": "Python 3",
   "language": "python",
   "name": "python3"
  },
  "language_info": {
   "codemirror_mode": {
    "name": "ipython",
    "version": 3
   },
   "file_extension": ".py",
   "mimetype": "text/x-python",
   "name": "python",
   "nbconvert_exporter": "python",
   "pygments_lexer": "ipython3",
   "version": "3.6.6"
  }
 },
 "nbformat": 4,
 "nbformat_minor": 2
}
