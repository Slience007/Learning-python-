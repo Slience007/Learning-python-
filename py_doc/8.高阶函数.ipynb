{
 "cells": [
  {
   "cell_type": "code",
   "execution_count": 1,
   "metadata": {},
   "outputs": [],
   "source": [
    "#函数式编程允许传入一个函数作为参数,返回也是函数。"
   ]
  },
  {
   "cell_type": "code",
   "execution_count": 12,
   "metadata": {},
   "outputs": [
    {
     "name": "stdout",
     "output_type": "stream",
     "text": [
      "<built-in function abs>\n"
     ]
    },
    {
     "data": {
      "text/plain": [
       "3"
      ]
     },
     "execution_count": 12,
     "metadata": {},
     "output_type": "execute_result"
    }
   ],
   "source": [
    "#函数名可以理解成指向函数名的变量\n",
    "def add_int(x,y,f):\n",
    "    print(f)\n",
    "    return f(x) + f(y)\n",
    "\n",
    "add_int(-1,-2,abs)"
   ]
  },
  {
   "cell_type": "code",
   "execution_count": 16,
   "metadata": {},
   "outputs": [
    {
     "name": "stdout",
     "output_type": "stream",
     "text": [
      "1 4\n"
     ]
    }
   ],
   "source": [
    "#map()\n",
    "#接收两个参数，一个是函数，一个是可迭代对象\n",
    "#返回是一个迭代器\n",
    "\n",
    "def xx(num):\n",
    "    return num * num\n",
    "lst1 = [1,2,3,4,5,6,7,8,9,10]\n",
    "\n",
    "map1 = map(xx,lst1)\n",
    "print(next(map1),next(map1))"
   ]
  },
  {
   "cell_type": "code",
   "execution_count": 23,
   "metadata": {},
   "outputs": [
    {
     "name": "stdout",
     "output_type": "stream",
     "text": [
      "55\n"
     ]
    }
   ],
   "source": [
    "#reducee \n",
    "#接收两个参数： 一个函数，一个可迭代对象\n",
    "#\n",
    "from functools import reduce\n",
    "\n",
    "def add(x,y):\n",
    "    return x+y\n",
    "lst2 =[1,2,3,4,5,6,7,8,9,10]\n",
    "\n",
    "red1 = reduce(add,lst2)\n",
    "print(red1)"
   ]
  },
  {
   "cell_type": "code",
   "execution_count": 33,
   "metadata": {},
   "outputs": [
    {
     "name": "stdout",
     "output_type": "stream",
     "text": [
      "Ssss\n",
      "Ttttt\n",
      "Sxxxx\n",
      "Syy\n",
      "6\n"
     ]
    }
   ],
   "source": [
    "def normalize(s):\n",
    "    return s[0].upper() + s[1:].lower()\n",
    "\n",
    "normalize(\"sTXXx\")\n",
    "\n",
    "s1 =[\"ssss\",'TTTTT',\"sXXXx\",\"Syy\"]\n",
    "map2 = map(normalize,s1)\n",
    "for i in map2:\n",
    "    print(i)\n",
    "    \n",
    "from functools import reduce\n",
    "def muti(x,y):\n",
    "    return x * y\n",
    "def prod(lst):\n",
    "    return reduce(muti,lst)\n",
    "\n",
    "red2 = prod([1,2,3])\n",
    "print(red2)"
   ]
  },
  {
   "cell_type": "code",
   "execution_count": 46,
   "metadata": {},
   "outputs": [
    {
     "name": "stdout",
     "output_type": "stream",
     "text": [
      "123456\n",
      "2\n",
      "123.456\n"
     ]
    }
   ],
   "source": [
    "s ='123.456'\n",
    "print(s.replace(\".\",\"\"))\n",
    "print(s.find(\"3\"))\n",
    "#将\"123.456\" 变成 123.456\n",
    "\n",
    "def str2float(s):\n",
    "    d={\"0\":0,\"1\":1,\"2\":2,\"3\":3,\"4\":4,\"5\":5,\"6\":6,\"7\":7}\n",
    "    tmp_s = s.replace(\".\",\"\")\n",
    "    def char2num(tmp_s):\n",
    "        return d[s]\n",
    "    tmp_num = map(char2num,s)\n",
    "    def fn(x,y):\n",
    "        return 10*x + y\n",
    "    num = reduce(fn,tmp_num)\n",
    "    n =len(s) - (s.find(\".\")+1)\n",
    "    print(n)\n",
    "result = num /pow(10,n)\n",
    "\n",
    "print(result)\n",
    "\n"
   ]
  },
  {
   "cell_type": "markdown",
   "metadata": {},
   "source": [
    "## 3.filter"
   ]
  },
  {
   "cell_type": "code",
   "execution_count": 49,
   "metadata": {},
   "outputs": [
    {
     "name": "stdout",
     "output_type": "stream",
     "text": [
      "[2, 4, 6, 8, 10]\n"
     ]
    }
   ],
   "source": [
    "#filter()函数用于过滤序列\n",
    "\n",
    "lst1 =[1,2,3,4,5,6,7,8,9,10]\n",
    "def is_odd(num):\n",
    "    return num % 2 == 0\n",
    "f1 = filter(is_odd,lst1)\n",
    "\n",
    "print(list(f1))\n",
    "        \n",
    "\n"
   ]
  },
  {
   "cell_type": "markdown",
   "metadata": {},
   "source": [
    "## 4.sorted"
   ]
  },
  {
   "cell_type": "code",
   "execution_count": 69,
   "metadata": {},
   "outputs": [
    {
     "name": "stdout",
     "output_type": "stream",
     "text": [
      "[1, 2, 3, -5]\n",
      "[-5, 3, 2, 1]\n",
      "['ac', 'Keee', 'Trrr']\n",
      "[('Bart', 66), ('Bob', 75), ('Lisa', 88), ('Adam', 92)]\n",
      "[('Adam', 92), ('Bart', 66), ('Bob', 75), ('Lisa', 88)]\n"
     ]
    }
   ],
   "source": [
    "lst2 =[1,3,-5,2]\n",
    "\n",
    "s1 = sorted(lst2,key=abs)\n",
    "print(list(s1))\n",
    "\n",
    "#反向排序\n",
    "s2 = sorted(lst2,key=abs,reverse=True)\n",
    "print(list(s2))\n",
    "\n",
    "str3 =[\"ac\",\"Trrr\",\"Keee\"]\n",
    "\n",
    "s3 = sorted(str3,key=str.lower)\n",
    "\n",
    "print(list(s3))\n",
    "\n",
    "def sort_by_score(l):\n",
    "    return l[1]\n",
    "def sort_by_name(l):\n",
    "    return l[0].lower()\n",
    "L = [('Bob', 75), ('Adam', 92), ('Bart', 66), ('Lisa', 88)]\n",
    "\n",
    "s4 = sorted(L,key=sort_by_score)\n",
    "\n",
    "s5 = sorted(L,key=sort_by_name)\n",
    "\n",
    "print(list(s4))\n",
    "\n",
    "print(list(s5))"
   ]
  },
  {
   "cell_type": "code",
   "execution_count": null,
   "metadata": {},
   "outputs": [],
   "source": []
  },
  {
   "cell_type": "code",
   "execution_count": null,
   "metadata": {},
   "outputs": [],
   "source": []
  }
 ],
 "metadata": {
  "kernelspec": {
   "display_name": "Python 3",
   "language": "python",
   "name": "python3"
  },
  "language_info": {
   "codemirror_mode": {
    "name": "ipython",
    "version": 3
   },
   "file_extension": ".py",
   "mimetype": "text/x-python",
   "name": "python",
   "nbconvert_exporter": "python",
   "pygments_lexer": "ipython3",
   "version": "3.6.6"
  }
 },
 "nbformat": 4,
 "nbformat_minor": 2
}
