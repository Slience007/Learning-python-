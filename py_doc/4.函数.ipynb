{
 "cells": [
  {
   "cell_type": "markdown",
   "metadata": {},
   "source": [
    "## 1.内置函数\n"
   ]
  },
  {
   "cell_type": "code",
   "execution_count": 7,
   "metadata": {},
   "outputs": [
    {
     "name": "stdout",
     "output_type": "stream",
     "text": [
      "abs(-10): 10\n",
      "max(1,2,4): 4\n",
      "int(\"123\"): 123\n"
     ]
    }
   ],
   "source": [
    "#绝对值函数abs()\n",
    "print(\"abs(-10):\",abs(-10))\n",
    "\n",
    "#max()\n",
    "print(\"max(1,2,4):\",max(1,2,4))\n",
    "\n",
    "#int() 其它类型函数转换成整数\n",
    "print(\"int(\\\"123\\\"):\",int(\"123\"))"
   ]
  },
  {
   "cell_type": "markdown",
   "metadata": {},
   "source": [
    "## 2.定义函数"
   ]
  },
  {
   "cell_type": "code",
   "execution_count": 9,
   "metadata": {},
   "outputs": [
    {
     "name": "stdout",
     "output_type": "stream",
     "text": [
      "hi ,suqiang\n"
     ]
    }
   ],
   "source": [
    "#定义\n",
    "def echo_hi(str1):\n",
    "    print(\"hi ,%s\" %str1)\n",
    "#调用函数\n",
    "echo_hi(\"suqiang\")"
   ]
  },
  {
   "cell_type": "code",
   "execution_count": 11,
   "metadata": {},
   "outputs": [
    {
     "name": "stdout",
     "output_type": "stream",
     "text": [
      "hi\n"
     ]
    },
    {
     "data": {
      "text/plain": [
       "'Bob'"
      ]
     },
     "execution_count": 11,
     "metadata": {},
     "output_type": "execute_result"
    }
   ],
   "source": [
    "#函数执行遇到return时，就会返回，后面的不会被执行\n",
    "\n",
    "#函数执行完，没有return时就返回 return none,即return\n",
    "\n",
    "#函数可以返回多个值，即tuple\n",
    "\n",
    "def hi(name):\n",
    "    print(\"hi\")\n",
    "    return name\n",
    "    print(\"statement after return\")\n",
    "hi(\"Bob\")\n"
   ]
  },
  {
   "cell_type": "code",
   "execution_count": null,
   "metadata": {},
   "outputs": [],
   "source": []
  },
  {
   "cell_type": "markdown",
   "metadata": {},
   "source": [
    "## 3.函数的参数"
   ]
  },
  {
   "cell_type": "code",
   "execution_count": 24,
   "metadata": {},
   "outputs": [
    {
     "name": "stdout",
     "output_type": "stream",
     "text": [
      "9\n",
      "25\n",
      "36\n",
      "15\n",
      "5\n",
      "age is:16\n",
      "age is:18\n"
     ]
    }
   ],
   "source": [
    "## 位置参数\n",
    "def xn(x):\n",
    "    return x*x\n",
    "print(xn(3))\n",
    "## 默认参数\n",
    "def xn2(x,n):\n",
    "    s =1\n",
    "    while n > 0:\n",
    "        s = s * x\n",
    "        n = n - 1\n",
    "    print(s)\n",
    "    return s\n",
    "\n",
    "xn2(5,2)\n",
    "#默认参数，当传入x 返回x * x\n",
    "def xn3(x,n=2):\n",
    "    xn2(x,n)\n",
    "xn3(6)\n",
    "#默认参数必须是不可变对象\n",
    "## 可变参数\n",
    "def nums(*num):\n",
    "    sum = 0\n",
    "    for i in num:\n",
    "        sum =sum +i\n",
    "    return sum\n",
    "print(nums(1,2,3,4,5))\n",
    "l1 = [1,1,1,1,1]\n",
    "print(nums(*l1))\n",
    "## 关键字参数\n",
    "def person(name,**kw):\n",
    "    if 'age' in kw:\n",
    "        print(\"age is:%s\" %(kw[\"age\"]))\n",
    "person(\"Bob\",age=16)\n",
    "d1= {\"name\":\"stephen\",\"age\":18}\n",
    "person(**d1)\n",
    "#参数组合"
   ]
  },
  {
   "cell_type": "markdown",
   "metadata": {},
   "source": [
    "## 4.递归函数"
   ]
  },
  {
   "cell_type": "code",
   "execution_count": 28,
   "metadata": {},
   "outputs": [
    {
     "data": {
      "text/plain": [
       "3628800"
      ]
     },
     "execution_count": 28,
     "metadata": {},
     "output_type": "execute_result"
    }
   ],
   "source": [
    "#函数中自己调用自己\n",
    "#fact(n)=n*(n-1)*(n-2) ...2*1\n",
    "\n",
    "def fact(n):\n",
    "    if n ==1:\n",
    "        return 1\n",
    "    else:\n",
    "        return n * fact(n-1)\n",
    "\n",
    "fact(10)\n",
    "    \n",
    "        "
   ]
  },
  {
   "cell_type": "code",
   "execution_count": null,
   "metadata": {},
   "outputs": [],
   "source": []
  }
 ],
 "metadata": {
  "kernelspec": {
   "display_name": "Python 3",
   "language": "python",
   "name": "python3"
  },
  "language_info": {
   "codemirror_mode": {
    "name": "ipython",
    "version": 3
   },
   "file_extension": ".py",
   "mimetype": "text/x-python",
   "name": "python",
   "nbconvert_exporter": "python",
   "pygments_lexer": "ipython3",
   "version": "3.6.6"
  }
 },
 "nbformat": 4,
 "nbformat_minor": 2
}
