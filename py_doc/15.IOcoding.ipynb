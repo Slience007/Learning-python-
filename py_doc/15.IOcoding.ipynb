{
 "cells": [
  {
   "cell_type": "markdown",
   "metadata": {},
   "source": [
    "# IO\n",
    "> IO 在计算机中指Input/Output,同步和异步\n",
    "# 1.文件读写"
   ]
  },
  {
   "cell_type": "code",
   "execution_count": 9,
   "metadata": {},
   "outputs": [],
   "source": [
    "f = open(\"a.txt\",'r')\n",
    "f.read()\n",
    "#read是一次性把文件内容读取到内存中\n",
    "f.close()"
   ]
  },
  {
   "cell_type": "markdown",
   "metadata": {},
   "source": [
    "> 由于打开文件可能会出现IO ERROR，后面的f.close()可能不会调用到，因此可以采用try ...finally来确保无能如何都能关闭文件。"
   ]
  },
  {
   "cell_type": "code",
   "execution_count": 14,
   "metadata": {},
   "outputs": [
    {
     "name": "stdout",
     "output_type": "stream",
     "text": [
      "[Errno 2] No such file or directory: 'b.txt'\n"
     ]
    }
   ],
   "source": [
    "try:\n",
    "    f =open(\"b.txt\",'r')\n",
    "    f.read()\n",
    "except Exception as e:\n",
    "    print(e)\n",
    "finally:\n",
    "    if f:\n",
    "        f.close()"
   ]
  },
  {
   "cell_type": "markdown",
   "metadata": {},
   "source": [
    "> 但是每次都像上面这样书写太麻烦，因此引入以下方式自动调用f.close()。"
   ]
  },
  {
   "cell_type": "code",
   "execution_count": 13,
   "metadata": {},
   "outputs": [],
   "source": [
    "with open(\"a.txt\",'r') as f:\n",
    "    f.read()"
   ]
  },
  {
   "cell_type": "markdown",
   "metadata": {},
   "source": [
    "## 区别\n",
    "1. read（）:一次性读取所有文件内容到内存。\n",
    "2. readlines（）：一次性读取所以内容并返会list。\n",
    "3. read[size]：根据size字节读取文件内容。"
   ]
  },
  {
   "cell_type": "code",
   "execution_count": 5,
   "metadata": {},
   "outputs": [
    {
     "name": "stdout",
     "output_type": "stream",
     "text": [
      "['start_mode = dev\\n', 'need_delete = true\\n']\n"
     ]
    }
   ],
   "source": [
    "# file-like Object不要求从特定类继承，只要写个read() 方法就行\n",
    "#内存中的字节流，网络流，自定义流等\n",
    "\n",
    "#打开二进制文件\n",
    "#open（\"\",\"rb\"）\n",
    "\n",
    "#读取非UTF-8编码的文件，需要给open函数传入encoding=\"gbk\"\n",
    "\n",
    "#写文件，打开文件传入标识符\"w\"  \"wb\"\n",
    "with open(\"system.ini\",\"r\") as f:\n",
    "    s = f.readlines()\n",
    "    print(s)\n"
   ]
  },
  {
   "cell_type": "markdown",
   "metadata": {},
   "source": [
    "# 2.StringIO，BytesIO"
   ]
  },
  {
   "cell_type": "code",
   "execution_count": 13,
   "metadata": {},
   "outputs": [
    {
     "name": "stdout",
     "output_type": "stream",
     "text": [
      "Hello \n",
      "\n",
      " World\n",
      "b'\\xe6\\x88\\x91\\xe7\\x88\\xb1\\xe4\\xbd\\xa0\\xe4\\xb8\\xad\\xe5\\x9b\\xbd'\n",
      "b'\\xe6\\x88\\x91\\xe7\\x88\\xb1\\xe4\\xbd\\xa0\\xe4\\xb8\\xad\\xe5\\x9b\\xbd'\n"
     ]
    }
   ],
   "source": [
    "#StringIO:在内存中读写str\n",
    "#写\n",
    "from io import StringIO\n",
    "f = StringIO()\n",
    "f.write(\"Hello\")\n",
    "\n",
    "#读\n",
    "f1 = StringIO(\"Hello \\n World\")\n",
    "while True:\n",
    "    s = f1.readline()\n",
    "    if s==\"\":\n",
    "        break\n",
    "    print(s)\n",
    "#BytesIO:在内存中读写字节\n",
    "\n",
    "from io import BytesIO\n",
    "f2 = BytesIO()\n",
    "f2.write(\"我爱你中国\".encode(\"utf-8\"))\n",
    "print(f2.getvalue())\n",
    "\n",
    "\n",
    "#读\n",
    "f3 = BytesIO(\"我爱你中国\".encode(\"utf-8\"))\n",
    "print(f3.read())\n",
    "\n"
   ]
  },
  {
   "cell_type": "markdown",
   "metadata": {},
   "source": [
    "# 3.操作文件和目录"
   ]
  },
  {
   "cell_type": "code",
   "execution_count": 44,
   "metadata": {},
   "outputs": [
    {
     "name": "stdout",
     "output_type": "stream",
     "text": [
      "posix\n",
      "environ({'CLUTTER_IM_MODULE': 'xim', 'LS_COLORS': 'rs=0:di=01;34:ln=01;36:mh=00:pi=40;33:so=01;35:do=01;35:bd=40;33;01:cd=40;33;01:or=40;31;01:mi=00:su=37;41:sg=30;43:ca=30;41:tw=30;42:ow=34;42:st=37;44:ex=01;32:*.tar=01;31:*.tgz=01;31:*.arc=01;31:*.arj=01;31:*.taz=01;31:*.lha=01;31:*.lz4=01;31:*.lzh=01;31:*.lzma=01;31:*.tlz=01;31:*.txz=01;31:*.tzo=01;31:*.t7z=01;31:*.zip=01;31:*.z=01;31:*.Z=01;31:*.dz=01;31:*.gz=01;31:*.lrz=01;31:*.lz=01;31:*.lzo=01;31:*.xz=01;31:*.zst=01;31:*.tzst=01;31:*.bz2=01;31:*.bz=01;31:*.tbz=01;31:*.tbz2=01;31:*.tz=01;31:*.deb=01;31:*.rpm=01;31:*.jar=01;31:*.war=01;31:*.ear=01;31:*.sar=01;31:*.rar=01;31:*.alz=01;31:*.ace=01;31:*.zoo=01;31:*.cpio=01;31:*.7z=01;31:*.rz=01;31:*.cab=01;31:*.wim=01;31:*.swm=01;31:*.dwm=01;31:*.esd=01;31:*.jpg=01;35:*.jpeg=01;35:*.mjpg=01;35:*.mjpeg=01;35:*.gif=01;35:*.bmp=01;35:*.pbm=01;35:*.pgm=01;35:*.ppm=01;35:*.tga=01;35:*.xbm=01;35:*.xpm=01;35:*.tif=01;35:*.tiff=01;35:*.png=01;35:*.svg=01;35:*.svgz=01;35:*.mng=01;35:*.pcx=01;35:*.mov=01;35:*.mpg=01;35:*.mpeg=01;35:*.m2v=01;35:*.mkv=01;35:*.webm=01;35:*.ogm=01;35:*.mp4=01;35:*.m4v=01;35:*.mp4v=01;35:*.vob=01;35:*.qt=01;35:*.nuv=01;35:*.wmv=01;35:*.asf=01;35:*.rm=01;35:*.rmvb=01;35:*.flc=01;35:*.avi=01;35:*.fli=01;35:*.flv=01;35:*.gl=01;35:*.dl=01;35:*.xcf=01;35:*.xwd=01;35:*.yuv=01;35:*.cgm=01;35:*.emf=01;35:*.ogv=01;35:*.ogx=01;35:*.aac=00;36:*.au=00;36:*.flac=00;36:*.m4a=00;36:*.mid=00;36:*.midi=00;36:*.mka=00;36:*.mp3=00;36:*.mpc=00;36:*.ogg=00;36:*.ra=00;36:*.wav=00;36:*.oga=00;36:*.opus=00;36:*.spx=00;36:*.xspf=00;36:', 'LC_MEASUREMENT': 'zh_CN.UTF-8', 'LESSCLOSE': '/usr/bin/lesspipe %s %s', 'LC_PAPER': 'zh_CN.UTF-8', 'LC_MONETARY': 'zh_CN.UTF-8', 'XDG_MENU_PREFIX': 'gnome-', 'LANG': 'zh_CN.UTF-8', 'DISPLAY': ':0', 'GNOME_SHELL_SESSION_MODE': 'ubuntu', 'GTK2_MODULES': 'overlay-scrollbar', 'COLORTERM': 'truecolor', 'USERNAME': 'stephen', 'XDG_VTNR': '2', 'SSH_AUTH_SOCK': '/run/user/1000/keyring/ssh', 'MANDATORY_PATH': '/usr/share/gconf/ubuntu.mandatory.path', 'S_COLORS': 'auto', 'LC_NAME': 'zh_CN.UTF-8', 'XDG_SESSION_ID': '2', 'USER': 'stephen', 'DESKTOP_SESSION': 'ubuntu', 'QT4_IM_MODULE': 'fcitx', 'TEXTDOMAINDIR': '/usr/share/locale/', 'GNOME_TERMINAL_SCREEN': '/org/gnome/Terminal/screen/e7e34aef_9994_414b_b2e1_357ecbacc022', 'DEFAULTS_PATH': '/usr/share/gconf/ubuntu.default.path', 'QT_QPA_PLATFORMTHEME': 'appmenu-qt5', 'PWD': '/home/stephen', 'HOME': '/home/stephen', 'TEXTDOMAIN': 'im-config', 'SSH_AGENT_PID': '3128', 'QT_ACCESSIBILITY': '1', 'XDG_SESSION_TYPE': 'x11', 'XDG_DATA_DIRS': '/usr/share/ubuntu:/usr/local/share:/usr/share:/var/lib/snapd/desktop:/var/lib/snapd/desktop', 'XDG_SESSION_DESKTOP': 'ubuntu', 'LC_ADDRESS': 'zh_CN.UTF-8', 'GJS_DEBUG_OUTPUT': 'stderr', 'LC_NUMERIC': 'zh_CN.UTF-8', 'GTK_MODULES': 'gail:atk-bridge', 'PAPERSIZE': 'a4', 'WINDOWPATH': '2', 'TERM': 'xterm-color', 'VTE_VERSION': '5202', 'SHELL': '/bin/bash', 'QT_IM_MODULE': 'fcitx', 'XMODIFIERS': '@im=fcitx', 'IM_CONFIG_PHASE': '2', 'XDG_CURRENT_DESKTOP': 'ubuntu:GNOME', 'GPG_AGENT_INFO': '/run/user/1000/gnupg/S.gpg-agent:0:1', 'GNOME_TERMINAL_SERVICE': ':1.96', 'SHLVL': '1', 'XDG_SEAT': 'seat0', 'LANGUAGE': 'zh_CN:en_US:en_AU:en', 'LC_TELEPHONE': 'zh_CN.UTF-8', 'GDMSESSION': 'ubuntu', 'GNOME_DESKTOP_SESSION_ID': 'this-is-deprecated', 'LOGNAME': 'stephen', 'DBUS_SESSION_BUS_ADDRESS': 'unix:path=/run/user/1000/bus', 'XDG_RUNTIME_DIR': '/run/user/1000', 'XAUTHORITY': '/run/user/1000/gdm/Xauthority', 'XDG_CONFIG_DIRS': '/etc/xdg/xdg-ubuntu:/etc/xdg', 'PATH': '/home/stephen/.local/bin:/home/stephen/bin:/home/stephen/.local/bin:/usr/local/sbin:/usr/local/bin:/usr/sbin:/usr/bin:/sbin:/bin:/usr/games:/usr/local/games:/snap/bin', 'LC_IDENTIFICATION': 'zh_CN.UTF-8', 'GJS_DEBUG_TOPICS': 'JS ERROR;JS LOG', 'SESSION_MANAGER': 'local/stephen-K55VD:@/tmp/.ICE-unix/3028,unix/stephen-K55VD:/tmp/.ICE-unix/3028', 'LESSOPEN': '| /usr/bin/lesspipe %s', 'GTK_IM_MODULE': 'fcitx', 'LC_TIME': 'zh_CN.UTF-8', '_': '/home/stephen/.local/bin/jupyter', 'JPY_PARENT_PID': '4338', 'CLICOLOR': '1', 'PAGER': 'cat', 'GIT_PAGER': 'cat', 'MPLBACKEND': 'module://ipykernel.pylab.backend_inline'}) \n",
      "\n",
      "/home/stephen/.local/bin:/home/stephen/bin:/home/stephen/.local/bin:/usr/local/sbin:/usr/local/bin:/usr/sbin:/usr/bin:/sbin:/bin:/usr/games:/usr/local/games:/snap/bin\n",
      "/home/stephen/stephen/LearningPython/Learning-python-/py_doc\n",
      "('/home/stephen/a', '.txt')\n",
      "['.ipynb_checkpoints']\n"
     ]
    }
   ],
   "source": [
    "import os\n",
    "#系统类型,如果是posix，说明系统是Linux、Unix或Mac OS X，如果是nt，就是Windows系统。\n",
    "print(os.name)\n",
    "\n",
    "#环境变量\n",
    "print(os.environ,\"\\n\")\n",
    "print(os.environ.get('PATH'))\n",
    "\n",
    "#操作文件或目录\n",
    "\n",
    "#查看当前目录的绝对路径\n",
    "print(os.path.abspath('.'))\n",
    "\n",
    "#创建新目录，先拼接出完整路径\n",
    "os.path.join(\"/home/stephen\",\"ops_tool\")\n",
    "#os.rmdir(\"/home/stephen/ops_tool\")\n",
    "#os.mkdir(\"/home/stephen/ops_tool\")\n",
    "\n",
    "\n",
    "#拆分路径\n",
    "p1 = os.path.split(\"/home/stephen/ops_tool/a.txt\")\n",
    "#获取扩展名称\n",
    "print(os.path.splitext(\"/home/stephen/a.txt\")) \n",
    "\n",
    "print([x for x in os.listdir('.') if os.path.isdir(x)])"
   ]
  },
  {
   "cell_type": "markdown",
   "metadata": {},
   "source": [
    "# 4.序列化"
   ]
  },
  {
   "cell_type": "code",
   "execution_count": 84,
   "metadata": {},
   "outputs": [
    {
     "name": "stdout",
     "output_type": "stream",
     "text": [
      "{'name': 'Bob', 'age': 20, 'score': 88}\n",
      "b'\\x80\\x03}q\\x00(X\\x04\\x00\\x00\\x00nameq\\x01X\\x03\\x00\\x00\\x00Bobq\\x02X\\x03\\x00\\x00\\x00ageq\\x03K\\x14X\\x05\\x00\\x00\\x00scoreq\\x04KXu.'\n",
      "File is exist!\n",
      "b'\\x80\\x03}q\\x00(X\\x04\\x00\\x00\\x00nameq\\x01X\\x03\\x00\\x00\\x00Bobq\\x02X\\x03\\x00\\x00\\x00ageq\\x03K\\x14X\\x05\\x00\\x00\\x00scoreq\\x04KXu.'\n",
      "{'name': 'Bob', 'age': 20, 'score': 88}\n",
      "{'name': 'dd', 'age': 16}\n",
      "{\"name\": \"dd\", \"age\": 16}\n",
      "{\"name\": \"zz\", \"age\": 18}\n"
     ]
    }
   ],
   "source": [
    "#序列化：把变量从内存中变成可存储或可传输的过程成为序列化。\n",
    "#反序列化：把变量内容从序列化对象重新读到内存里称为反序列化。\n",
    "import pickle,os\n",
    "\n",
    "d = dict(name='Bob', age=20, score=88)\n",
    "print(d)\n",
    "print(pickle.dumps(d))\n",
    "#pickle把任何对象序列化成一个bytes\n",
    "#pickle.dump()直接把序列化后的内容写入文件\n",
    "if not (os.path.exists(\"B.txt\")):\n",
    "    os.mknod(\"B.txt\")\n",
    "else:\n",
    "    print(\"File is exist!\")\n",
    "with open(\"B.txt\",\"wb\")  as f:\n",
    "    pickle.dump(d,f)\n",
    "with open(\"B.txt\",\"rb\") as f1:\n",
    "    print(f1.read())\n",
    "    \n",
    "#反序列化\n",
    "with open(\"B.txt\",\"rb\") as f2:\n",
    "    print(pickle.load(f2))\n",
    "    #这个变量和原来的变量只是内容相同，完全没有关系\n",
    "\n",
    "\n",
    "#JSON\n",
    "\n",
    "#Python对象转换成功Json\n",
    "import json\n",
    "d1 = dict(name=\"dd\",age =16)\n",
    "print(d1)\n",
    "print(json.dumps(d1))\n",
    "#Student对象转换成Json对象\n",
    "class Student(object):\n",
    "    def __init__(self,name,age):\n",
    "        self.name = name\n",
    "        self.age = age\n",
    "s =Student(\"zz\",18)\n",
    "def stu2Dict(stu):\n",
    "    return {\n",
    "        \"name\":stu.name,\n",
    "        \"age\":stu.age\n",
    "    }\n",
    "print(json.dumps(s,default=stu2Dict))"
   ]
  },
  {
   "cell_type": "code",
   "execution_count": null,
   "metadata": {},
   "outputs": [],
   "source": []
  },
  {
   "cell_type": "code",
   "execution_count": null,
   "metadata": {},
   "outputs": [],
   "source": []
  },
  {
   "cell_type": "code",
   "execution_count": null,
   "metadata": {},
   "outputs": [],
   "source": []
  }
 ],
 "metadata": {
  "kernelspec": {
   "display_name": "Python 3",
   "language": "python",
   "name": "python3"
  },
  "language_info": {
   "codemirror_mode": {
    "name": "ipython",
    "version": 3
   },
   "file_extension": ".py",
   "mimetype": "text/x-python",
   "name": "python",
   "nbconvert_exporter": "python",
   "pygments_lexer": "ipython3",
   "version": "3.6.6"
  }
 },
 "nbformat": 4,
 "nbformat_minor": 2
}
