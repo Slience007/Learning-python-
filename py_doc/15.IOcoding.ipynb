{
 "cells": [
  {
   "cell_type": "markdown",
   "metadata": {},
   "source": [
    "# IO\n",
    "> IO 在计算机中指Input/Output,同步和异步\n",
    "## 读文件\n",
    "## 序列化"
   ]
  },
  {
   "cell_type": "code",
   "execution_count": 9,
   "metadata": {},
   "outputs": [],
   "source": [
    "f = open(\"a.txt\",'r')\n",
    "f.read()\n",
    "#read是一次性把文件内容读取到内存中\n",
    "f.close()"
   ]
  },
  {
   "cell_type": "markdown",
   "metadata": {},
   "source": [
    "> 由于打开文件可能会出现IO ERROR，后面的f.close()可能不会调用到，因此可以采用try ...finally来确保无能如何都能关闭文件。"
   ]
  },
  {
   "cell_type": "code",
   "execution_count": 14,
   "metadata": {},
   "outputs": [
    {
     "name": "stdout",
     "output_type": "stream",
     "text": [
      "[Errno 2] No such file or directory: 'b.txt'\n"
     ]
    }
   ],
   "source": [
    "try:\n",
    "    f =open(\"b.txt\",'r')\n",
    "    f.read()\n",
    "except Exception as e:\n",
    "    print(e)\n",
    "finally:\n",
    "    if f:\n",
    "        f.close()"
   ]
  },
  {
   "cell_type": "markdown",
   "metadata": {},
   "source": [
    "> 但是每次都像上面这样书写太麻烦，因此引入以下方式自动调用f.close()。"
   ]
  },
  {
   "cell_type": "code",
   "execution_count": 13,
   "metadata": {},
   "outputs": [],
   "source": [
    "with open(\"a.txt\",'r') as f:\n",
    "    f.read()"
   ]
  },
  {
   "cell_type": "markdown",
   "metadata": {},
   "source": [
    "## 区别\n",
    "1. read（）:一次性读取所有文件内容到内存。\n",
    "2. readlines（）：一次性读取所以内容并返会list。\n",
    "3. read[size]：根据size字节读取文件内容。"
   ]
  },
  {
   "cell_type": "code",
   "execution_count": 5,
   "metadata": {},
   "outputs": [
    {
     "name": "stdout",
     "output_type": "stream",
     "text": [
      "['start_mode = dev\\n', 'need_delete = true\\n']\n"
     ]
    }
   ],
   "source": [
    "# file-like Object不要求从特定类继承，只要写个read() 方法就行\n",
    "#内存中的字节流，网络流，自定义流等\n",
    "\n",
    "#打开二进制文件\n",
    "#open（\"\",\"rb\"）\n",
    "\n",
    "#读取非UTF-8编码的文件，需要给open函数传入encoding=\"gbk\"\n",
    "\n",
    "#写文件，打开文件传入标识符\"w\"  \"wb\"\n",
    "with open(\"system.ini\",\"r\") as f:\n",
    "    s = f.readlines()\n",
    "    print(s)\n"
   ]
  },
  {
   "cell_type": "code",
   "execution_count": null,
   "metadata": {},
   "outputs": [],
   "source": []
  },
  {
   "cell_type": "code",
   "execution_count": null,
   "metadata": {},
   "outputs": [],
   "source": []
  }
 ],
 "metadata": {
  "kernelspec": {
   "display_name": "Python 3",
   "language": "python",
   "name": "python3"
  },
  "language_info": {
   "codemirror_mode": {
    "name": "ipython",
    "version": 3
   },
   "file_extension": ".py",
   "mimetype": "text/x-python",
   "name": "python",
   "nbconvert_exporter": "python",
   "pygments_lexer": "ipython3",
   "version": "3.6.6"
  }
 },
 "nbformat": 4,
 "nbformat_minor": 2
}
