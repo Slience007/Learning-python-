{
 "cells": [
  {
   "cell_type": "markdown",
   "metadata": {},
   "source": [
    "# 1.模块介绍"
   ]
  },
  {
   "cell_type": "code",
   "execution_count": 1,
   "metadata": {},
   "outputs": [],
   "source": [
    "# 1.什么是模块（module）？\n",
    "#Python中一个.py文件就是一个模块\n",
    "\n",
    "# 2.为什么需要模块？\n",
    "# 同一个文件中，代码越写越长，不易维护。\n",
    "\n",
    "#3.使用模块的好处？\n",
    "# 可维护性好\n",
    "# 可继承别人已经写好的代码，不必从零开始开发\n",
    "# 避免变量名称冲突\n"
   ]
  },
  {
   "cell_type": "code",
   "execution_count": null,
   "metadata": {},
   "outputs": [],
   "source": [
    "# abc.py就是一个模块，xyz.py也是一个模块\n",
    "\n",
    "#如果有别的模块也叫abc.py那岂不是冲突了？因此引入顶层目录来组织模块\n",
    "#例如：dws.abc.py    dws1.abc.py\n",
    "#每一个包目录下必须要有一个__init__.py，否则python会把这个目录当成普通目录\n",
    "#__init__.py本身就是一个模块，模块名就是上一层的包名"
   ]
  },
  {
   "cell_type": "markdown",
   "metadata": {},
   "source": [
    "# 2.使用模块"
   ]
  },
  {
   "cell_type": "code",
   "execution_count": 11,
   "metadata": {},
   "outputs": [
    {
     "name": "stdout",
     "output_type": "stream",
     "text": [
      "hi,linghuchong \n",
      "hello,xm\n"
     ]
    }
   ],
   "source": [
    "#导入sys模块\n",
    "import sys\n",
    "def say_hi():\n",
    "    args = sys.argv\n",
    "    if len(args)==1:\n",
    "        print(\"hi\")\n",
    "    if len(args)==2:\n",
    "        print(\"hi,%s\"%args[1])\n",
    "#作用域\n",
    "# _xx,__xxx__这样的函数或变量不应该被直接引用\n",
    "\n",
    "def _say_hi1(name):\n",
    "    return 'hi,%s ' % name\n",
    "def _say_hello(name):\n",
    "    return 'hello,%s' %name\n",
    "def greeting(name):\n",
    "    if len(name)>3:\n",
    "        return _say_hi1(name)\n",
    "    if len(name) <3:\n",
    "        return _say_hello(name)\n",
    "    \n",
    "r1 =greeting(\"linghuchong\")\n",
    "r2 = greeting(\"xm\")\n",
    "print(r1)\n",
    "print(r2)\n"
   ]
  },
  {
   "cell_type": "markdown",
   "metadata": {},
   "source": [
    "## 3.安装模块"
   ]
  },
  {
   "cell_type": "code",
   "execution_count": 16,
   "metadata": {},
   "outputs": [
    {
     "name": "stdout",
     "output_type": "stream",
     "text": [
      "['/usr/lib/python36.zip', '/usr/lib/python3.6', '/usr/lib/python3.6/lib-dynload', '', '/home/stephen/.local/lib/python3.6/site-packages', '/usr/local/lib/python3.6/dist-packages', '/usr/lib/python3/dist-packages', '/home/stephen/.local/lib/python3.6/site-packages/IPython/extensions', '/home/stephen/.ipython', '/home/stephen']\n",
      "after appended path: ['/usr/lib/python36.zip', '/usr/lib/python3.6', '/usr/lib/python3.6/lib-dynload', '', '/home/stephen/.local/lib/python3.6/site-packages', '/usr/local/lib/python3.6/dist-packages', '/usr/lib/python3/dist-packages', '/home/stephen/.local/lib/python3.6/site-packages/IPython/extensions', '/home/stephen/.ipython', '/home/stephen', '/home/stephen']\n"
     ]
    }
   ],
   "source": [
    "# pip install xxx\n",
    "\n",
    "#Anaconda,这是基于Python的数据处理和科学计算平台 \n",
    "\n",
    "#模块搜索路径\n",
    "import sys\n",
    "print(sys.path)\n",
    "\n",
    "\n",
    "#添加自己的搜索路径 \n",
    "\n",
    "#运行时生效，运行后失效\n",
    "sys.path.append(\"/home/stephen\")\n",
    "print(\"after appended path:\",sys.path)\n",
    "\n",
    "\n",
    "# 配置环境变量PYTHONPATH\n",
    "#该环境变量下的内容会被自动添加到Python的搜索路径中"
   ]
  },
  {
   "cell_type": "code",
   "execution_count": null,
   "metadata": {},
   "outputs": [],
   "source": []
  },
  {
   "cell_type": "code",
   "execution_count": null,
   "metadata": {},
   "outputs": [],
   "source": []
  },
  {
   "cell_type": "code",
   "execution_count": null,
   "metadata": {},
   "outputs": [],
   "source": []
  }
 ],
 "metadata": {
  "kernelspec": {
   "display_name": "Python 3",
   "language": "python",
   "name": "python3"
  },
  "language_info": {
   "codemirror_mode": {
    "name": "ipython",
    "version": 3
   },
   "file_extension": ".py",
   "mimetype": "text/x-python",
   "name": "python",
   "nbconvert_exporter": "python",
   "pygments_lexer": "ipython3",
   "version": "3.6.6"
  }
 },
 "nbformat": 4,
 "nbformat_minor": 2
}
