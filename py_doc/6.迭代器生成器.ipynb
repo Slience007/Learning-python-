{
 "cells": [
  {
   "cell_type": "markdown",
   "metadata": {},
   "source": [
    "## 1.列表生成式"
   ]
  },
  {
   "cell_type": "code",
   "execution_count": 17,
   "metadata": {},
   "outputs": [
    {
     "name": "stdout",
     "output_type": "stream",
     "text": [
      "[0, 1, 4, 9, 16, 25]\n",
      "[0, 4, 16]\n",
      "['a1', 'a2', 'a3', 'b1', 'b2', 'b3', 'c1', 'c2', 'c3']\n",
      "['job=develop', 'age=35']\n",
      "['hello', 'you']\n"
     ]
    }
   ],
   "source": [
    "#Python内置的用于生成列表的生成式\n",
    "##1.生成0～99\n",
    "range(0,100)\n",
    "\n",
    "##2,生成[1*1,2*2,...]\n",
    "print([i * i for i in range(0,6)])\n",
    "\n",
    "##3.生成[0,2*2,]\n",
    "print([i * i for i in range(0,6) if i%2==0])\n",
    "\n",
    "##4.全排列\n",
    "print([m+n for m in \"abc\" for n in \"123\"])\n",
    "\n",
    "##使用两个变量生成list\n",
    "dict4={\"job\":\"develop\",\"age\":\"35\"}\n",
    "print([ k +\"=\"+ v for k,v in dict4.items()])\n",
    "\n",
    "\n",
    "##eg 将字符串变成小写\n",
    "lst6 =[\"HeLLo\",\"You\",True,123]\n",
    "\n",
    "print([i.lower() for i in lst6 if isinstance(i,str)])\n"
   ]
  },
  {
   "cell_type": "markdown",
   "metadata": {},
   "source": [
    "## 2.生成器"
   ]
  },
  {
   "cell_type": "code",
   "execution_count": 41,
   "metadata": {},
   "outputs": [
    {
     "name": "stdout",
     "output_type": "stream",
     "text": [
      "<generator object <genexpr> at 0x7f121860c150>\n",
      "1\n",
      "2\n",
      "3\n",
      "num func\n",
      "step1\n",
      "2\n",
      "step2\n",
      "3\n"
     ]
    }
   ],
   "source": [
    "#一次性创建太长的list占用内存多，而且可能只用到其中的几个元素\n",
    "#按照一定算法生成元素，边计算边生成的机制称为：生成器。\n",
    "g=(i for i in [1,2,3])\n",
    "print(g)\n",
    "print(next(g))\n",
    "print(next(g))\n",
    "print(next(g))\n",
    "#没有更多的元素时，抛出错误\n",
    "#print(next(g))\n",
    "\n",
    "\n",
    "\n",
    "#r如果一个函数中包含yield，这个函数不是普通的函数 而是一个生成器\n",
    "\n",
    "def add(num):\n",
    "    print(\"num func\")\n",
    "    print(\"step1\")\n",
    "    yield num+1\n",
    "    print(\"step2\")\n",
    "    yield num+2\n",
    "    \n",
    "g1 = add(1)\n",
    "#print(next(g1))\n",
    "#print(next(g1))\n",
    "\n",
    "for i in g1:\n",
    "    print(i)\n",
    "    "
   ]
  },
  {
   "cell_type": "markdown",
   "metadata": {},
   "source": [
    "## 3.迭代器"
   ]
  },
  {
   "cell_type": "code",
   "execution_count": 45,
   "metadata": {},
   "outputs": [
    {
     "name": "stdout",
     "output_type": "stream",
     "text": [
      "True\n",
      "1 11\n"
     ]
    }
   ],
   "source": [
    "#可以作用于for循环的数据类型\n",
    "\n",
    "#1.集合数据类型：list，str,set,dict,tuple等\n",
    "\n",
    "#2.生成器和带yield的生成器\n",
    "\n",
    "#这种可以作用于for循环的对象称之为：可迭代对象,Iterable\n",
    "#使用isinstance()判断一个对象是否为可迭代对象\n",
    "from collections import Iterable\n",
    "print(isinstance([1,2,3],Iterable))\n",
    "\n",
    "#迭代器：可以被next()调用并不断返回下一个值的对象称之为：迭代器。Iterator\n",
    "\n",
    "#生成器都是迭代器\n",
    "#list,tupel虽然是可迭代的，但是却不是迭代器  \n",
    "\n",
    "#迭代器是惰性的，可以理解成一个有序序列，但是不知道长度\n",
    "\n",
    "#合数据类型如list、dict、str等是Iterable但不是Iterator，不过可以通过iter()函数获得一个Iterator对象。\n",
    "\n",
    "lst6= [1,11,111]\n",
    "g2 = iter(lst6)\n",
    "print(next(g2),next(g2))"
   ]
  },
  {
   "cell_type": "code",
   "execution_count": null,
   "metadata": {},
   "outputs": [],
   "source": []
  }
 ],
 "metadata": {
  "kernelspec": {
   "display_name": "Python 3",
   "language": "python",
   "name": "python3"
  },
  "language_info": {
   "codemirror_mode": {
    "name": "ipython",
    "version": 3
   },
   "file_extension": ".py",
   "mimetype": "text/x-python",
   "name": "python",
   "nbconvert_exporter": "python",
   "pygments_lexer": "ipython3",
   "version": "3.6.6"
  }
 },
 "nbformat": 4,
 "nbformat_minor": 2
}
