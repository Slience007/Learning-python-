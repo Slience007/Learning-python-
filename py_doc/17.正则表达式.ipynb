{
 "cells": [
  {
   "cell_type": "markdown",
   "metadata": {},
   "source": [
    "# 1.准备知识"
   ]
  },
  {
   "cell_type": "code",
   "execution_count": 2,
   "metadata": {},
   "outputs": [],
   "source": [
    "#用于匹配字符串的工具\n",
    "#创建规格，凡是符合创建规则的字符串，就认为是匹配了\n",
    "\n",
    "#\\d :匹配一个数字\n",
    "#\\w ：匹配一个数字和字母\n",
    "#.：可以匹配任意字符\n",
    "#要匹配变长的字符，在正则表达式中，用*表示任意个字符（包括0个），\n",
    "#用+表示至少一个字符，\n",
    "#用?表示0个或1个字符，\n",
    "#用{n}表示n个字符，\n",
    "#用{n,m}表示n-m个字符：\n",
    "#\\s可以匹配一个空格（也包括Tab等空白符）\n",
    "#\\d{3}\\s+\\d{3,8}\n",
    "\n",
    "# A|B可以匹配A或B，所以(P|p)ython可以匹配'Python'或者'python'。\n",
    " \n",
    "# ^表示行的开头，^\\d表示必须以数字开头。\n",
    "\n",
    "# $表示行的结束，\\d$表示必须以数字结束。\n",
    "\n",
    "\n"
   ]
  },
  {
   "cell_type": "markdown",
   "metadata": {},
   "source": [
    "# 2.re模块"
   ]
  },
  {
   "cell_type": "code",
   "execution_count": 13,
   "metadata": {},
   "outputs": [
    {
     "name": "stdout",
     "output_type": "stream",
     "text": [
      "<_sre.SRE_Match object; span=(0, 7), match='010 120'>\n",
      "None\n",
      "Please input your email:123@123\n",
      "123@123\n",
      "Input match re\n"
     ]
    }
   ],
   "source": [
    "import re\n",
    "print(re.match(r'\\d{3}\\s+\\d{3,8}',\"010 120\"))\n",
    "#匹配则返回一个match对象\n",
    "print(re.match(r'\\d{3}\\s+\\d{3,8}',\"010_120\"))\n",
    "#不匹配则返回None\n",
    "\n",
    "user_in = input(\"Please input your email:\")\n",
    "print(user_in)\n",
    "if re.match(r'\\d{3,8}\\@\\d{3,8}',user_in):\n",
    "    print(\"Input match re\")\n",
    "else:\n",
    "    print(\"Test fail\")"
   ]
  },
  {
   "cell_type": "code",
   "execution_count": 19,
   "metadata": {},
   "outputs": [
    {
     "name": "stdout",
     "output_type": "stream",
     "text": [
      "['a', '', 'b', '', '', '', '', '', '', '', '', '', '', '', '', '', '', 'c']\n",
      "['a', 'b', 'c']\n"
     ]
    }
   ],
   "source": [
    "#切割字符串\n",
    "s1 = \"a  b               c\"\n",
    "print(s1.split(\" \"))\n",
    "#无法识别连续的空格\n",
    "\n",
    "print(re.split(r\"\\s+\",s1))"
   ]
  },
  {
   "cell_type": "code",
   "execution_count": 24,
   "metadata": {},
   "outputs": [
    {
     "name": "stdout",
     "output_type": "stream",
     "text": [
      "<_sre.SRE_Match object; span=(0, 12), match='110-12345678'>\n",
      "110-12345678\n",
      "110\n",
      "12345678\n"
     ]
    }
   ],
   "source": [
    "#分组，用（）要提取的分组\n",
    "import re\n",
    "r = r'^(\\d{3})-(\\d{3,8})$'\n",
    "m = re.match(r,\"110-12345678\")\n",
    "print(m)\n",
    "print(m[0])\n",
    "print(m[1])\n",
    "print(m[2])"
   ]
  },
  {
   "cell_type": "code",
   "execution_count": 27,
   "metadata": {},
   "outputs": [
    {
     "name": "stdout",
     "output_type": "stream",
     "text": [
      "('102300', '')\n",
      "('1023', '00')\n"
     ]
    }
   ],
   "source": [
    "#贪婪匹配\n",
    "#正则默认的是贪婪匹配\n",
    "\n",
    "r = re.match(r'^(\\d+)(0*)$', '102300').groups()\n",
    "print(r)\n",
    "\n",
    "\n",
    "#非贪婪匹配\n",
    "r1 = re.match(r'^(\\d+?)(0*)$', '102300').groups()\n",
    "print(r1)"
   ]
  },
  {
   "cell_type": "code",
   "execution_count": 32,
   "metadata": {},
   "outputs": [
    {
     "data": {
      "text/plain": [
       "<_sre.SRE_Match object; span=(0, 11), match='12334512934'>"
      ]
     },
     "execution_count": 32,
     "metadata": {},
     "output_type": "execute_result"
    }
   ],
   "source": [
    "#编译\n",
    "#当我们在Python中使用正则表达式时，re模块内部会干两件事情：\n",
    "#编译正则表达式，如果正则表达式的字符串本身不合法，会报错；\n",
    "#用编译后的正则表达式去匹配字符串。\n",
    "\n",
    "\n",
    "import re\n",
    "re_tel = re.compile(r'^\\d{3}\\d{4}\\d{4}$')\n",
    "re_tel.match(\"12334512934\")\n"
   ]
  },
  {
   "cell_type": "code",
   "execution_count": 35,
   "metadata": {},
   "outputs": [
    {
     "data": {
      "text/plain": [
       "<_sre.SRE_Match object; span=(0, 20), match='12suqiang@huawei.com'>"
      ]
     },
     "execution_count": 35,
     "metadata": {},
     "output_type": "execute_result"
    }
   ],
   "source": [
    "re_rmail = re.compile(r'^[0-9a-zA-Z\\_]+@+[a-zA-Z]+\\.com$')\n",
    "re_rmail.match(\"12suqiang@huawei.com\")"
   ]
  },
  {
   "cell_type": "code",
   "execution_count": null,
   "metadata": {},
   "outputs": [],
   "source": []
  }
 ],
 "metadata": {
  "kernelspec": {
   "display_name": "Python 3",
   "language": "python",
   "name": "python3"
  },
  "language_info": {
   "codemirror_mode": {
    "name": "ipython",
    "version": 3
   },
   "file_extension": ".py",
   "mimetype": "text/x-python",
   "name": "python",
   "nbconvert_exporter": "python",
   "pygments_lexer": "ipython3",
   "version": "3.6.6"
  }
 },
 "nbformat": 4,
 "nbformat_minor": 2
}
