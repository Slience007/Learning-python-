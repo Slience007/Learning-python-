{
 "cells": [
  {
   "cell_type": "markdown",
   "metadata": {},
   "source": [
    "# 1.概述"
   ]
  },
  {
   "cell_type": "code",
   "execution_count": 10,
   "metadata": {},
   "outputs": [
    {
     "name": "stdout",
     "output_type": "stream",
     "text": [
      "student  xiaoming is :100\n",
      "student  xiaoming is :100\n"
     ]
    }
   ],
   "source": [
    "#面向对象简称OPP。OOP把对象作为程序的基本单元，一个对象包含了数据和操作数据的函数。\n",
    "\n",
    "#Python中，所有数据类型都可以视为对象，也可以自定义对象。\n",
    "\n",
    "stu1 = {\"name\":\"xiaoming\",\"score\":100}\n",
    "stu2 = {\"name\":\"xiaohong\",\"score\":99}\n",
    "#打印学生的姓名和成绩 \n",
    "\n",
    "##面向对象的实现\n",
    "def echo_score(stu):\n",
    "    print(\"student  %s is :%s\"  %(stu[\"name\"],stu[\"score\"]))  \n",
    "    \n",
    "echo_score(stu1)\n",
    "\n",
    "\n",
    "#面向对象编程\n",
    "class Student(object):\n",
    "    def __init__(self,name,score):\n",
    "        self.name = name\n",
    "        self.score = score \n",
    "        \n",
    "    def print_score(self):\n",
    "        print(\"student  %s is :%s\"   %(self.name,self.score))\n",
    "st3 = Student(\"xiaoming\",100)\n",
    "\n",
    "st3.print_score()"
   ]
  },
  {
   "cell_type": "markdown",
   "metadata": {},
   "source": [
    "# 2.类和实例"
   ]
  },
  {
   "cell_type": "code",
   "execution_count": 25,
   "metadata": {},
   "outputs": [
    {
     "name": "stdout",
     "output_type": "stream",
     "text": [
      "<__main__.Dog object at 0x7f6f3c0d6908>\n",
      "black\n",
      "wangwangwang\n"
     ]
    }
   ],
   "source": [
    "#定义类，类名通常是首字母大写的开头\n",
    "class Dog(object):\n",
    "    def __init__(self,name1,color):\n",
    "        self.name1 = name1\n",
    "        self.color = color\n",
    "    #定义类方法\n",
    "    def action(self):\n",
    "        print(\"wangwangwang\")\n",
    "\n",
    "#根据类创建实例 \n",
    "dog1 = Dog(\"wangcai\",\"black\")\n",
    "print(dog1)\n",
    "\n",
    "#访问类的属性\n",
    "print(dog1.color)\n",
    "\n",
    "#__init__方法的第一个参数是self,表示的是创建实例本身。\n",
    "#调用类方法\n",
    "dog1.action()"
   ]
  },
  {
   "cell_type": "markdown",
   "metadata": {},
   "source": [
    "# 3.访问限制"
   ]
  },
  {
   "cell_type": "code",
   "execution_count": 32,
   "metadata": {},
   "outputs": [
    {
     "name": "stdout",
     "output_type": "stream",
     "text": [
      "dahuang\n",
      "dahuanggou\n"
     ]
    }
   ],
   "source": [
    "#class内部用于属性和方法，外部代码可以直接调用实例的变量的方法来操作数据 ，这样就隐藏了内部的逻辑\n",
    "#外部代码可以直接一个实例的属性，如果让内部属性不被外部访问，可以在属性前面加上两个下划线__\n",
    "\n",
    "class Dog(object):\n",
    "    def __init__(self,name):\n",
    "        self.__name = name\n",
    "dog2 = Dog(\"huahua\")\n",
    "#print(dog2.name)\n",
    "#因为__name是私有变量，所以无法直接从外部直接访问，那要怎么才能访问呢？增加getter方法\n",
    "\n",
    "class Dog(object):\n",
    "    def __init__(self,name):\n",
    "        self.__name = name\n",
    "    def get_name(self):\n",
    "        return self.__name\n",
    "    def set_name(self,name):\n",
    "        self.__name = name\n",
    "dog3 = Dog(\"dahuang\")\n",
    "\n",
    "print(dog3.get_name())\n",
    "\n",
    "dog3.set_name(\"dahuanggou\")\n",
    "\n",
    "print(dog3.get_name())"
   ]
  },
  {
   "cell_type": "code",
   "execution_count": null,
   "metadata": {},
   "outputs": [],
   "source": []
  }
 ],
 "metadata": {
  "kernelspec": {
   "display_name": "Python 3",
   "language": "python",
   "name": "python3"
  },
  "language_info": {
   "codemirror_mode": {
    "name": "ipython",
    "version": 3
   },
   "file_extension": ".py",
   "mimetype": "text/x-python",
   "name": "python",
   "nbconvert_exporter": "python",
   "pygments_lexer": "ipython3",
   "version": "3.6.6"
  }
 },
 "nbformat": 4,
 "nbformat_minor": 2
}
