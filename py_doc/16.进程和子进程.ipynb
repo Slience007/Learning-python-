{
 "cells": [
  {
   "cell_type": "markdown",
   "metadata": {},
   "source": [
    "# 1.进程和线程"
   ]
  },
  {
   "cell_type": "code",
   "execution_count": 12,
   "metadata": {},
   "outputs": [
    {
     "name": "stdout",
     "output_type": "stream",
     "text": [
      "Process[19835]start....\n",
      "I [19835]  just create child process [26695]\n",
      "Process[19835]start....\n",
      "This is child process [26695] ,parent process is [19835]\n"
     ]
    }
   ],
   "source": [
    "#一个进程至少一个线程，线程是最小的执行单元\n",
    "#fork() 在Python中创建子进程,子进程永远返回0，而父进程返回子进程的ID。这样做的理由是，一个父进程可以fork出很多子进程，\n",
    "#所以，父进程要记下每个子进程的ID，而子进程只需要调用getppid()就可以拿到父进程的ID。\n",
    "import os\n",
    "print(\"Process[%s]start....\" %os.getpid())\n",
    "pid = os.fork()\n",
    "if pid == 0:\n",
    "    print(\"This is child process [%s] ,parent process is [%s]\" %(os.getpid(),os.getppid()))\n",
    "else:\n",
    "    print(\"I [%s]  just create child process [%s]\"  %(os.getpid(),pid))\n",
    "      "
   ]
  },
  {
   "cell_type": "code",
   "execution_count": 24,
   "metadata": {},
   "outputs": [
    {
     "name": "stdout",
     "output_type": "stream",
     "text": [
      "Parent process  id : 19835 ...\n",
      "Child process will start ...\n",
      "Child process starting...\n",
      "My name is : test, child process,pid[26885]...\n",
      "Child process end...\n",
      "Process run end ...\n"
     ]
    }
   ],
   "source": [
    "# multiprocessing模块就是跨平台版本的多进程模块。\n",
    "# multiprocessing模块提供了一个Process类来代表一个进程对象\n",
    "from multiprocessing import Process\n",
    "import os,time\n",
    "def run_child(name):\n",
    "    print(\"Child process starting...\")\n",
    "    print(\"My name is : %s, child process,pid[%s]...\" %(name,os.getpid()))\n",
    "    time.sleep(5)\n",
    "    print(\"Child process end...\")\n",
    "print(\"Parent process  id : %s ...\" %os.getpid())\n",
    "p = Process(target=run_child,args=(\"test\",))\n",
    "print(\"Child process will start ...\")\n",
    "p.start()\n",
    "#join()方法可以等待子进程结束后再继续往下运行，通常用于进程间的同步。\n",
    "p.join()\n",
    "print(\"Process run end ...\")"
   ]
  },
  {
   "cell_type": "code",
   "execution_count": 35,
   "metadata": {},
   "outputs": [
    {
     "name": "stdout",
     "output_type": "stream",
     "text": [
      "Parent process is : 19835\n",
      "run task process is : 27887\n",
      "run task process is : 27888\n",
      "run task process is : 27889\n",
      "run task process is : 27890\n",
      "Task 2 cost : 0.07 \n",
      "Task: 2 run end \n",
      "run task process is : 27889\n",
      "Waiting all subprocess done...\n",
      "Task 1 cost : 1.19 \n",
      "Task: 1 run end \n",
      "Task 4 cost : 2.43 \n",
      "Task: 4 run end \n",
      "Task 3 cost : 2.57 \n",
      "Task: 3 run end \n",
      "Task 0 cost : 3.29 \n",
      "Task: 0 run end \n",
      "All  subprocess done\n",
      "run task process is : 19835\n",
      "Task do exe cost : 0.30 \n",
      "Task: do exe run end \n"
     ]
    }
   ],
   "source": [
    "#如果需要启动大量子进程，可以采用进程池的方法批量创建。\n",
    "import os,time,random\n",
    "from multiprocessing import Pool\n",
    "def long_time_task(name):\n",
    "    print(\"run task process is : %s\" %os.getpid())\n",
    "    start_time = time.time()\n",
    "    time.sleep(random.random() * 5)\n",
    "    end_time = time.time()\n",
    "    total_time =  end_time - start_time \n",
    "    print(\"Task %s cost : %0.2f \" %(name,total_time) ) \n",
    "    print(\"Task: %s run end \" %name)\n",
    "\n",
    "print(\"Parent process is : %s\" %os.getpid())\n",
    "p = Pool(4)\n",
    "for i in range(5):\n",
    "     p.apply_async(long_time_task,args=(i,))\n",
    "print(\"Waiting all subprocess done...\")\n",
    "p.close()\n",
    "p.join()\n",
    "print(\"All  subprocess done\")\n",
    "\n",
    "#对Pool对象调用join()方法会等待所有子进程执行完毕，调用join()之前必须先调用close()，调用close()之后就不能继续添加新的Process了\n",
    "\n"
   ]
  },
  {
   "cell_type": "code",
   "execution_count": 44,
   "metadata": {},
   "outputs": [
    {
     "name": "stdout",
     "output_type": "stream",
     "text": [
      "$ nslookup www.python.org\n",
      "Exit cod :  0\n"
     ]
    }
   ],
   "source": [
    "#很多时候，子进程并不是本身，而是外部进程，利用subprocess模块，可以控制输入和输出\n",
    "import subprocess\n",
    "print(\"$ nslookup www.python.org\")\n",
    "r = subprocess.call(['nslookup','www.python.org'])\n",
    "print(\"Exit cod : \",r) "
   ]
  },
  {
   "cell_type": "code",
   "execution_count": 43,
   "metadata": {},
   "outputs": [
    {
     "name": "stdout",
     "output_type": "stream",
     "text": [
      "$ nslookup\n",
      "Server:\t\t127.0.0.53\n",
      "Address:\t127.0.0.53#53\n",
      "\n",
      "Non-authoritative answer:\n",
      "python.org\tmail exchanger = 50 mail.python.org.\n",
      "\n",
      "Authoritative answers can be found from:\n",
      "\n",
      "\n",
      "Exit code: 0\n"
     ]
    }
   ],
   "source": [
    "#如果子进程还需要输入，则可以通过communicate()方法输入：\n",
    "import subprocess\n",
    "print(\"$ nslookup\")\n",
    "p = subprocess.Popen(['nslookup'], stdin=subprocess.PIPE, stdout=subprocess.PIPE, stderr=subprocess.PIPE)\n",
    "output, err = p.communicate(b'set q=mx\\npython.org\\nexit\\n')\n",
    "print(output.decode('utf-8'))\n",
    "print('Exit code:', p.returncode)"
   ]
  },
  {
   "cell_type": "code",
   "execution_count": 50,
   "metadata": {},
   "outputs": [
    {
     "name": "stdout",
     "output_type": "stream",
     "text": [
      "process write .... 30161 \n",
      "process read ... 30162\n",
      "put q to queue\n",
      "get value q from queue...\n",
      "put w to queue\n",
      "get value w from queue...\n",
      "put x to queue\n",
      "get value x from queue...\n",
      "put 1 to queue\n",
      "get value 1 from queue...\n",
      "put 3 to queue\n",
      "get value 3 from queue...\n",
      "put 3 to queue\n",
      "get value 3 from queue...\n",
      "put 3 to queue\n",
      "get value 3 from queue...\n",
      "put 3 to queue\n",
      "get value 3 from queue...\n",
      "put 3 to queue\n",
      "get value 3 from queue...\n",
      "put 3 to queue\n",
      "get value 3 from queue...\n",
      "put 3 to queue\n",
      "get value 3 from queue...\n",
      "put 3 to queue\n",
      "get value 3 from queue...\n",
      "put 3 to queue\n",
      "get value 3 from queue...\n",
      "put 3 to queue\n",
      "get value 3 from queue...\n",
      "put 3 to queue\n",
      "get value 3 from queue...\n"
     ]
    }
   ],
   "source": [
    "#进程间通信\n",
    "from multiprocessing import Process, Queue\n",
    "import os, time, random\n",
    "\n",
    "def write(q):\n",
    "    print(\"process write .... %s \" %os.getpid())\n",
    "    for value in [\"q\",\"w\",\"x\",1,3,3,3,3,3,3,3,3,3,3,3,]:\n",
    "        print(\"put %s to queue\" %value)\n",
    "        q.put(value)\n",
    "        time.sleep(random.random() *3)\n",
    "def read_q(q):\n",
    "    print(\"process read ... %s\" %os.getpid())\n",
    "    while True:\n",
    "        value = q.get(True)\n",
    "        print(\"get value %s from queue...\" %value)\n",
    "\n",
    "#父进程创建Queue，并传给各个子进程\n",
    "q = Queue()\n",
    "pw = Process(target=write,args=(q,))\n",
    "pr = Process(target=read_q,args=(q,))\n",
    "#启动写进程\n",
    "pw.start()\n",
    "#启动读进程\n",
    "pr.start()\n",
    "#等待pw结束\n",
    "pw.join()\n",
    "#强制终止pr\n",
    "pr.terminate()\n",
    "\n",
    "        "
   ]
  },
  {
   "cell_type": "code",
   "execution_count": null,
   "metadata": {},
   "outputs": [],
   "source": []
  }
 ],
 "metadata": {
  "kernelspec": {
   "display_name": "Python 3",
   "language": "python",
   "name": "python3"
  },
  "language_info": {
   "codemirror_mode": {
    "name": "ipython",
    "version": 3
   },
   "file_extension": ".py",
   "mimetype": "text/x-python",
   "name": "python",
   "nbconvert_exporter": "python",
   "pygments_lexer": "ipython3",
   "version": "3.6.6"
  }
 },
 "nbformat": 4,
 "nbformat_minor": 2
}
